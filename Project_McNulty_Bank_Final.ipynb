{
 "cells": [
  {
   "cell_type": "markdown",
   "metadata": {},
   "source": [
    "## Project McNulty"
   ]
  },
  {
   "cell_type": "code",
   "execution_count": 24,
   "metadata": {
    "collapsed": false
   },
   "outputs": [],
   "source": [
    "import pandas as pd\n",
    "import numpy as np\n",
    "import sys\n",
    "import matplotlib.pyplot as plt\n",
    "from sklearn.cross_validation import train_test_split, cross_val_score, ShuffleSplit, \\\n",
    "                                        StratifiedKFold, permutation_test_score\n",
    "from sklearn.feature_selection import RFECV, SelectPercentile, f_classif\n",
    "from sklearn.grid_search import GridSearchCV\n",
    "from sklearn.pipeline import Pipeline\n",
    "from sklearn.neighbors import KNeighborsClassifier\n",
    "from sklearn.linear_model import LogisticRegression, LogisticRegressionCV\n",
    "from sklearn.naive_bayes import GaussianNB\n",
    "from sklearn.svm import SVC\n",
    "from sklearn.tree import DecisionTreeClassifier\n",
    "from sklearn.ensemble import RandomForestClassifier, BaggingClassifier\n",
    "from sklearn.metrics import roc_curve, accuracy_score, precision_score, \\\n",
    "                            recall_score, f1_score, auc, roc_curve, roc_auc_score, classification_report\n",
    "from sklearn.learning_curve import learning_curve\n",
    "from sklearn.preprocessing import StandardScaler, scale\n",
    "import seaborn as sns\n",
    "% matplotlib inline"
   ]
  },
  {
   "cell_type": "markdown",
   "metadata": {},
   "source": [
    "### Model Search"
   ]
  },
  {
   "cell_type": "code",
   "execution_count": null,
   "metadata": {
    "collapsed": true
   },
   "outputs": [],
   "source": [
    "def model_search(estimator, tuned_params, scores, X_train, y_train, X_test, y_test):  \n",
    "    \n",
    "    cv = ShuffleSplit(len(X_train), n_iter=3, test_size=0.30, random_state=0)\n",
    "\n",
    "    for score in scores:\n",
    "        print\"# Tuning hyper-parameters for %s\" % score\n",
    "        print\n",
    "\n",
    "        clf = GridSearchCV(estimator, tuned_params, cv=cv,\n",
    "                           scoring='%s' % score)\n",
    "        clf.fit(X_train, y_train)\n",
    "\n",
    "        print\"Best parameters set found on development set:\"\n",
    "        print\n",
    "        print clf.best_params_\n",
    "        print\n",
    "        print \"Grid scores on development set:\"\n",
    "        print\n",
    "        for params, mean_score, scores in clf.grid_scores_:\n",
    "            print \"%0.3f (+/-%0.03f) for %r\" % (mean_score, scores.std() * 2, params)\n",
    "        print\n",
    "\n",
    "        print \"Detailed classification report:\"\n",
    "        print\n",
    "        print \"The model is trained on the full development set.\"\n",
    "        print \"The scores are computed on the full evaluation set.\"\n",
    "        print\n",
    "        y_true, y_pred = y_test, clf.predict(X_test)\n",
    "        print classification_report(y_true, y_pred)\n",
    "        print"
   ]
  },
  {
   "cell_type": "markdown",
   "metadata": {},
   "source": [
    "### ROC Curve Analysis"
   ]
  },
  {
   "cell_type": "code",
   "execution_count": null,
   "metadata": {
    "collapsed": true
   },
   "outputs": [],
   "source": [
    "def plot_ROC_curve(y_true, y_score, color, label):\n",
    "        \"\"\"\n",
    "        plots the ROC curve based off of the test data\n",
    "        \"\"\"\n",
    "        fpr, tpr, thresholds = roc_curve(y_true, y_score)\n",
    "        AUC = auc(fpr,tpr)\n",
    "        \n",
    "        plt.plot(fpr, tpr, color, label=label + ': ' + str(AUC))\n",
    "        plt.legend(loc='lower right') \n",
    "        plt.xlabel('False Positive Rate')\n",
    "        plt.ylabel('True Positive Rate')\n",
    "        plt.title('ROC Curve')"
   ]
  },
  {
   "cell_type": "markdown",
   "metadata": {},
   "source": [
    "#### Setup Dataframe"
   ]
  },
  {
   "cell_type": "code",
   "execution_count": 478,
   "metadata": {
    "collapsed": false
   },
   "outputs": [],
   "source": [
    "bank = pd.read_csv('bank-additional.csv', sep=';') \n",
    "# Replace yes/no with 1 and 0\n",
    "bank = bank.replace(['yes','no'], [1,0])\n",
    "# Puts the outcome variable at the front of the dataframe\n",
    "cols = bank.columns.tolist()\n",
    "cols = cols[-1:] + cols[:-1]\n",
    "bank = bank[cols]\n",
    "# Drops the unknowns from the data\n",
    "bank.replace(['unknown'], [np.nan], inplace=True)\n",
    "bank = bank.dropna()\n",
    "# Delete features that can't be used for new clients\n",
    "del bank['duration']\n",
    "del bank['campaign']\n",
    "del bank['pdays']\n",
    "del bank['previous']\n",
    "del bank['poutcome']\n",
    "\n",
    "# Add dummies for categorical variables\n",
    "bank = pd.get_dummies(bank, columns=['month', 'day_of_week', 'job', 'marital', 'education', 'contact'])#, 'poutcome'])\n",
    "\n",
    "# Delete a column for each categorical variable to use as a base class\n",
    "del bank['month_mar']\n",
    "del bank['day_of_week_wed']\n",
    "del bank['job_blue-collar']\n",
    "del bank['marital_married']\n",
    "del bank['education_university.degree']\n",
    "del bank['contact_cellular']\n",
    "#del bank['poutcome_nonexistent']"
   ]
  },
  {
   "cell_type": "code",
   "execution_count": 479,
   "metadata": {
    "collapsed": false,
    "scrolled": true
   },
   "outputs": [
    {
     "data": {
      "text/html": [
       "<div style=\"max-height:1000px;max-width:1500px;overflow:auto;\">\n",
       "<table border=\"1\" class=\"dataframe\">\n",
       "  <thead>\n",
       "    <tr style=\"text-align: right;\">\n",
       "      <th></th>\n",
       "      <th>y</th>\n",
       "      <th>age</th>\n",
       "      <th>default</th>\n",
       "      <th>housing</th>\n",
       "      <th>loan</th>\n",
       "      <th>emp.var.rate</th>\n",
       "      <th>cons.price.idx</th>\n",
       "      <th>cons.conf.idx</th>\n",
       "      <th>euribor3m</th>\n",
       "      <th>nr.employed</th>\n",
       "      <th>...</th>\n",
       "      <th>job_unemployed</th>\n",
       "      <th>marital_divorced</th>\n",
       "      <th>marital_single</th>\n",
       "      <th>education_basic.4y</th>\n",
       "      <th>education_basic.6y</th>\n",
       "      <th>education_basic.9y</th>\n",
       "      <th>education_high.school</th>\n",
       "      <th>education_illiterate</th>\n",
       "      <th>education_professional.course</th>\n",
       "      <th>contact_telephone</th>\n",
       "    </tr>\n",
       "  </thead>\n",
       "  <tbody>\n",
       "    <tr>\n",
       "      <th>0</th>\n",
       "      <td>0</td>\n",
       "      <td>30</td>\n",
       "      <td>0</td>\n",
       "      <td>1</td>\n",
       "      <td>0</td>\n",
       "      <td>-1.8</td>\n",
       "      <td>92.893</td>\n",
       "      <td>-46.2</td>\n",
       "      <td>1.313</td>\n",
       "      <td>5099.1</td>\n",
       "      <td>...</td>\n",
       "      <td>0</td>\n",
       "      <td>0</td>\n",
       "      <td>0</td>\n",
       "      <td>0</td>\n",
       "      <td>0</td>\n",
       "      <td>1</td>\n",
       "      <td>0</td>\n",
       "      <td>0</td>\n",
       "      <td>0</td>\n",
       "      <td>0</td>\n",
       "    </tr>\n",
       "    <tr>\n",
       "      <th>1</th>\n",
       "      <td>0</td>\n",
       "      <td>39</td>\n",
       "      <td>0</td>\n",
       "      <td>0</td>\n",
       "      <td>0</td>\n",
       "      <td>1.1</td>\n",
       "      <td>93.994</td>\n",
       "      <td>-36.4</td>\n",
       "      <td>4.855</td>\n",
       "      <td>5191.0</td>\n",
       "      <td>...</td>\n",
       "      <td>0</td>\n",
       "      <td>0</td>\n",
       "      <td>1</td>\n",
       "      <td>0</td>\n",
       "      <td>0</td>\n",
       "      <td>0</td>\n",
       "      <td>1</td>\n",
       "      <td>0</td>\n",
       "      <td>0</td>\n",
       "      <td>1</td>\n",
       "    </tr>\n",
       "    <tr>\n",
       "      <th>2</th>\n",
       "      <td>0</td>\n",
       "      <td>25</td>\n",
       "      <td>0</td>\n",
       "      <td>1</td>\n",
       "      <td>0</td>\n",
       "      <td>1.4</td>\n",
       "      <td>94.465</td>\n",
       "      <td>-41.8</td>\n",
       "      <td>4.962</td>\n",
       "      <td>5228.1</td>\n",
       "      <td>...</td>\n",
       "      <td>0</td>\n",
       "      <td>0</td>\n",
       "      <td>0</td>\n",
       "      <td>0</td>\n",
       "      <td>0</td>\n",
       "      <td>0</td>\n",
       "      <td>1</td>\n",
       "      <td>0</td>\n",
       "      <td>0</td>\n",
       "      <td>1</td>\n",
       "    </tr>\n",
       "    <tr>\n",
       "      <th>4</th>\n",
       "      <td>0</td>\n",
       "      <td>47</td>\n",
       "      <td>0</td>\n",
       "      <td>1</td>\n",
       "      <td>0</td>\n",
       "      <td>-0.1</td>\n",
       "      <td>93.200</td>\n",
       "      <td>-42.0</td>\n",
       "      <td>4.191</td>\n",
       "      <td>5195.8</td>\n",
       "      <td>...</td>\n",
       "      <td>0</td>\n",
       "      <td>0</td>\n",
       "      <td>0</td>\n",
       "      <td>0</td>\n",
       "      <td>0</td>\n",
       "      <td>0</td>\n",
       "      <td>0</td>\n",
       "      <td>0</td>\n",
       "      <td>0</td>\n",
       "      <td>0</td>\n",
       "    </tr>\n",
       "    <tr>\n",
       "      <th>5</th>\n",
       "      <td>0</td>\n",
       "      <td>32</td>\n",
       "      <td>0</td>\n",
       "      <td>0</td>\n",
       "      <td>0</td>\n",
       "      <td>-1.1</td>\n",
       "      <td>94.199</td>\n",
       "      <td>-37.5</td>\n",
       "      <td>0.884</td>\n",
       "      <td>4963.6</td>\n",
       "      <td>...</td>\n",
       "      <td>0</td>\n",
       "      <td>0</td>\n",
       "      <td>1</td>\n",
       "      <td>0</td>\n",
       "      <td>0</td>\n",
       "      <td>0</td>\n",
       "      <td>0</td>\n",
       "      <td>0</td>\n",
       "      <td>0</td>\n",
       "      <td>0</td>\n",
       "    </tr>\n",
       "  </tbody>\n",
       "</table>\n",
       "<p>5 rows × 42 columns</p>\n",
       "</div>"
      ],
      "text/plain": [
       "   y  age  default  housing  loan  emp.var.rate  cons.price.idx  \\\n",
       "0  0   30        0        1     0          -1.8          92.893   \n",
       "1  0   39        0        0     0           1.1          93.994   \n",
       "2  0   25        0        1     0           1.4          94.465   \n",
       "4  0   47        0        1     0          -0.1          93.200   \n",
       "5  0   32        0        0     0          -1.1          94.199   \n",
       "\n",
       "   cons.conf.idx  euribor3m  nr.employed        ...          job_unemployed  \\\n",
       "0          -46.2      1.313       5099.1        ...                       0   \n",
       "1          -36.4      4.855       5191.0        ...                       0   \n",
       "2          -41.8      4.962       5228.1        ...                       0   \n",
       "4          -42.0      4.191       5195.8        ...                       0   \n",
       "5          -37.5      0.884       4963.6        ...                       0   \n",
       "\n",
       "   marital_divorced  marital_single  education_basic.4y  education_basic.6y  \\\n",
       "0                 0               0                   0                   0   \n",
       "1                 0               1                   0                   0   \n",
       "2                 0               0                   0                   0   \n",
       "4                 0               0                   0                   0   \n",
       "5                 0               1                   0                   0   \n",
       "\n",
       "   education_basic.9y  education_high.school  education_illiterate  \\\n",
       "0                   1                      0                     0   \n",
       "1                   0                      1                     0   \n",
       "2                   0                      1                     0   \n",
       "4                   0                      0                     0   \n",
       "5                   0                      0                     0   \n",
       "\n",
       "   education_professional.course  contact_telephone  \n",
       "0                              0                  0  \n",
       "1                              0                  1  \n",
       "2                              0                  1  \n",
       "4                              0                  0  \n",
       "5                              0                  0  \n",
       "\n",
       "[5 rows x 42 columns]"
      ]
     },
     "execution_count": 479,
     "metadata": {},
     "output_type": "execute_result"
    }
   ],
   "source": [
    "bank.head()"
   ]
  },
  {
   "cell_type": "markdown",
   "metadata": {},
   "source": [
    "#### Randomly shuffle the dataframe"
   ]
  },
  {
   "cell_type": "code",
   "execution_count": 480,
   "metadata": {
    "collapsed": true
   },
   "outputs": [],
   "source": [
    "bank = bank.iloc[np.random.permutation(len(bank))]"
   ]
  },
  {
   "cell_type": "code",
   "execution_count": 481,
   "metadata": {
    "collapsed": false,
    "scrolled": true
   },
   "outputs": [
    {
     "data": {
      "text/html": [
       "<div style=\"max-height:1000px;max-width:1500px;overflow:auto;\">\n",
       "<table border=\"1\" class=\"dataframe\">\n",
       "  <thead>\n",
       "    <tr style=\"text-align: right;\">\n",
       "      <th></th>\n",
       "      <th>y</th>\n",
       "      <th>age</th>\n",
       "      <th>default</th>\n",
       "      <th>housing</th>\n",
       "      <th>loan</th>\n",
       "      <th>emp.var.rate</th>\n",
       "      <th>cons.price.idx</th>\n",
       "      <th>cons.conf.idx</th>\n",
       "      <th>euribor3m</th>\n",
       "      <th>nr.employed</th>\n",
       "      <th>...</th>\n",
       "      <th>job_unemployed</th>\n",
       "      <th>marital_divorced</th>\n",
       "      <th>marital_single</th>\n",
       "      <th>education_basic.4y</th>\n",
       "      <th>education_basic.6y</th>\n",
       "      <th>education_basic.9y</th>\n",
       "      <th>education_high.school</th>\n",
       "      <th>education_illiterate</th>\n",
       "      <th>education_professional.course</th>\n",
       "      <th>contact_telephone</th>\n",
       "    </tr>\n",
       "  </thead>\n",
       "  <tbody>\n",
       "    <tr>\n",
       "      <th>1503</th>\n",
       "      <td>0</td>\n",
       "      <td>47</td>\n",
       "      <td>0</td>\n",
       "      <td>1</td>\n",
       "      <td>0</td>\n",
       "      <td>1.4</td>\n",
       "      <td>93.918</td>\n",
       "      <td>-42.7</td>\n",
       "      <td>4.962</td>\n",
       "      <td>5228.1</td>\n",
       "      <td>...</td>\n",
       "      <td>0</td>\n",
       "      <td>1</td>\n",
       "      <td>0</td>\n",
       "      <td>0</td>\n",
       "      <td>0</td>\n",
       "      <td>0</td>\n",
       "      <td>1</td>\n",
       "      <td>0</td>\n",
       "      <td>0</td>\n",
       "      <td>0</td>\n",
       "    </tr>\n",
       "    <tr>\n",
       "      <th>3515</th>\n",
       "      <td>0</td>\n",
       "      <td>31</td>\n",
       "      <td>0</td>\n",
       "      <td>0</td>\n",
       "      <td>0</td>\n",
       "      <td>1.4</td>\n",
       "      <td>93.918</td>\n",
       "      <td>-42.7</td>\n",
       "      <td>4.957</td>\n",
       "      <td>5228.1</td>\n",
       "      <td>...</td>\n",
       "      <td>0</td>\n",
       "      <td>0</td>\n",
       "      <td>0</td>\n",
       "      <td>0</td>\n",
       "      <td>0</td>\n",
       "      <td>1</td>\n",
       "      <td>0</td>\n",
       "      <td>0</td>\n",
       "      <td>0</td>\n",
       "      <td>0</td>\n",
       "    </tr>\n",
       "    <tr>\n",
       "      <th>1710</th>\n",
       "      <td>0</td>\n",
       "      <td>38</td>\n",
       "      <td>0</td>\n",
       "      <td>0</td>\n",
       "      <td>0</td>\n",
       "      <td>1.1</td>\n",
       "      <td>93.994</td>\n",
       "      <td>-36.4</td>\n",
       "      <td>4.857</td>\n",
       "      <td>5191.0</td>\n",
       "      <td>...</td>\n",
       "      <td>0</td>\n",
       "      <td>0</td>\n",
       "      <td>0</td>\n",
       "      <td>0</td>\n",
       "      <td>0</td>\n",
       "      <td>0</td>\n",
       "      <td>1</td>\n",
       "      <td>0</td>\n",
       "      <td>0</td>\n",
       "      <td>1</td>\n",
       "    </tr>\n",
       "    <tr>\n",
       "      <th>78</th>\n",
       "      <td>0</td>\n",
       "      <td>33</td>\n",
       "      <td>0</td>\n",
       "      <td>0</td>\n",
       "      <td>0</td>\n",
       "      <td>1.4</td>\n",
       "      <td>94.465</td>\n",
       "      <td>-41.8</td>\n",
       "      <td>4.959</td>\n",
       "      <td>5228.1</td>\n",
       "      <td>...</td>\n",
       "      <td>1</td>\n",
       "      <td>0</td>\n",
       "      <td>0</td>\n",
       "      <td>0</td>\n",
       "      <td>0</td>\n",
       "      <td>1</td>\n",
       "      <td>0</td>\n",
       "      <td>0</td>\n",
       "      <td>0</td>\n",
       "      <td>1</td>\n",
       "    </tr>\n",
       "    <tr>\n",
       "      <th>3162</th>\n",
       "      <td>0</td>\n",
       "      <td>27</td>\n",
       "      <td>0</td>\n",
       "      <td>1</td>\n",
       "      <td>0</td>\n",
       "      <td>1.4</td>\n",
       "      <td>93.918</td>\n",
       "      <td>-42.7</td>\n",
       "      <td>4.962</td>\n",
       "      <td>5228.1</td>\n",
       "      <td>...</td>\n",
       "      <td>0</td>\n",
       "      <td>0</td>\n",
       "      <td>1</td>\n",
       "      <td>0</td>\n",
       "      <td>0</td>\n",
       "      <td>0</td>\n",
       "      <td>0</td>\n",
       "      <td>0</td>\n",
       "      <td>1</td>\n",
       "      <td>0</td>\n",
       "    </tr>\n",
       "  </tbody>\n",
       "</table>\n",
       "<p>5 rows × 42 columns</p>\n",
       "</div>"
      ],
      "text/plain": [
       "      y  age  default  housing  loan  emp.var.rate  cons.price.idx  \\\n",
       "1503  0   47        0        1     0           1.4          93.918   \n",
       "3515  0   31        0        0     0           1.4          93.918   \n",
       "1710  0   38        0        0     0           1.1          93.994   \n",
       "78    0   33        0        0     0           1.4          94.465   \n",
       "3162  0   27        0        1     0           1.4          93.918   \n",
       "\n",
       "      cons.conf.idx  euribor3m  nr.employed        ...          \\\n",
       "1503          -42.7      4.962       5228.1        ...           \n",
       "3515          -42.7      4.957       5228.1        ...           \n",
       "1710          -36.4      4.857       5191.0        ...           \n",
       "78            -41.8      4.959       5228.1        ...           \n",
       "3162          -42.7      4.962       5228.1        ...           \n",
       "\n",
       "      job_unemployed  marital_divorced  marital_single  education_basic.4y  \\\n",
       "1503               0                 1               0                   0   \n",
       "3515               0                 0               0                   0   \n",
       "1710               0                 0               0                   0   \n",
       "78                 1                 0               0                   0   \n",
       "3162               0                 0               1                   0   \n",
       "\n",
       "      education_basic.6y  education_basic.9y  education_high.school  \\\n",
       "1503                   0                   0                      1   \n",
       "3515                   0                   1                      0   \n",
       "1710                   0                   0                      1   \n",
       "78                     0                   1                      0   \n",
       "3162                   0                   0                      0   \n",
       "\n",
       "      education_illiterate  education_professional.course  contact_telephone  \n",
       "1503                     0                              0                  0  \n",
       "3515                     0                              0                  0  \n",
       "1710                     0                              0                  1  \n",
       "78                       0                              0                  1  \n",
       "3162                     0                              1                  0  \n",
       "\n",
       "[5 rows x 42 columns]"
      ]
     },
     "execution_count": 481,
     "metadata": {},
     "output_type": "execute_result"
    }
   ],
   "source": [
    "bank.head()"
   ]
  },
  {
   "cell_type": "markdown",
   "metadata": {},
   "source": [
    "#### Renames columns to get rid of periods and dash's"
   ]
  },
  {
   "cell_type": "code",
   "execution_count": 482,
   "metadata": {
    "collapsed": false,
    "scrolled": false
   },
   "outputs": [],
   "source": [
    "bank.columns = [u'y', u'age', u'default', u'housing', u'loan',u'emp_var_rate', \\\n",
    "             u'cons_price_idx', u'cons_conf_idx', u'euribor3m', u'nr_employed', \\\n",
    "             u'month_apr', u'month_aug', u'month_dec', u'month_jul', u'month_jun',\n",
    "             u'month_may', u'month_nov', u'month_oct', u'month_sep', u'day_of_week_fri', u'day_of_week_mon', \\\n",
    "             u'day_of_week_thu', u'day_of_week_tue', u'job_admin', \\\n",
    "             u'job_entrepreneur', u'job_housemaid', u'job_management', u'job_retired', u'job_self_employed', \\\n",
    "             u'job_services', u'job_student', u'job_technician', u'job_unemployed', u'marital_divorced', \\\n",
    "             u'marital_single', u'education_basic_4y', u'education_basic_6y', \\\n",
    "             u'education_basic_9y', u'education_high_school', u'education_illiterate', \\\n",
    "             u'education_professional_course', u'contact_telephone']"
   ]
  },
  {
   "cell_type": "markdown",
   "metadata": {},
   "source": [
    "#### Create feature interactions"
   ]
  },
  {
   "cell_type": "code",
   "execution_count": 57,
   "metadata": {
    "collapsed": false
   },
   "outputs": [],
   "source": [
    "#bank['age_retired'] = bank.age * bank.job_retired\n",
    "#bank['age_admin'] = bank.age * bank.job_admin\n",
    "#bank['age_blue'] = bank.age * bank.job_blue_collar\n",
    "#bank['age_entre'] = bank.age * bank.job_entrepreneur\n",
    "#bank['age_housemaid'] = bank.age * bank.job_housemaid\n",
    "#bank['age_manage'] = bank.age * bank.job_management\n",
    "#bank['age_self'] = bank.age * bank.job_self_employed\n",
    "#bank['age_serv'] = bank.age * bank.job_services\n",
    "#bank['age_student'] = bank.age * bank.job_student\n",
    "#bank['age_tech'] = bank.age * bank.job_technician\n",
    "#bank['age_unem'] = bank.age * bank.job_unemployed\n",
    "#bank['age_emp'] = bank.age * bank.emp_var_rate\n",
    "#bank['age_cons'] = bank.age * bank.cons_price_idx\n",
    "#bank['age_conf'] = bank.age * bank.cons_conf_idx\n",
    "#bank['age_eurib'] = bank.age * bank.euribor3m\n",
    "#bank['age_empl'] = bank.age * bank.nr_employed"
   ]
  },
  {
   "cell_type": "code",
   "execution_count": 370,
   "metadata": {
    "collapsed": false
   },
   "outputs": [],
   "source": [
    "#X = bank.values[:,1:].astype(float)\n",
    "#y = bank.values[:,0].astype(float)\n",
    "#X_train, X_test, y_train, y_test = train_test_split(X, y, test_size=.30)\n",
    "\n",
    "#X_scaled = scale(X)\n",
    "    \n",
    "#std_scale = StandardScaler(copy=True).fit(X_train)\n",
    "#X_train = std_scale.transform(X_train)\n",
    "#X_test = std_scale.transform(X_test)"
   ]
  },
  {
   "cell_type": "markdown",
   "metadata": {},
   "source": [
    "#### Scaled continuous features and create train and test set"
   ]
  },
  {
   "cell_type": "code",
   "execution_count": 483,
   "metadata": {
    "collapsed": false
   },
   "outputs": [],
   "source": [
    "X = bank.values[:,1:].astype(float)\n",
    "y = bank.values[:,0].astype(float)\n",
    "X_train, X_test, y_train, y_test = train_test_split(X, y, test_size=.30)\n",
    "\n",
    "X_add_all = scale(X[:,(0,4,5,6,7,8)])#,9,10,11)])\n",
    "X_scaled = np.delete(X, (0,4,5,6,7,8), axis=1)#,9,10,11), axis=1)\n",
    "X_scaled = np.insert(X_scaled, (0,3,3,3,3,3), X_add_all, axis=1)#,3,3,3), X_add_all, axis=1)\n",
    "\n",
    "std_scale = StandardScaler(copy=True).fit(X_train[:,(0,4,5,6,7,8)])#,9,10,11)])\n",
    "X_add_train = std_scale.transform(X_train[:,(0,4,5,6,7,8)])#,9,10,11)]) \n",
    "X_add_test = std_scale.transform(X_test[:,(0,4,5,6,7,8)])#,9,10,11)])\n",
    "X_train_scaled = np.delete(X_train, [0,4,5,6,7,8], axis=1)#,9,10,11], axis=1)\n",
    "X_train_scaled = np.insert(X_train_scaled, (0,3,3,3,3,3), X_add_train, axis=1)#,3,3,3), X_add_train, axis=1)\n",
    "X_test_scaled = np.delete(X_test, [0,4,5,6,7,8], axis=1)#,9,10,11], axis=1)\n",
    "X_test_scaled = np.insert(X_test_scaled, (0,3,3,3,3,3), X_add_test, axis=1)#,3,3,3), X_add_test, axis=1)"
   ]
  },
  {
   "cell_type": "markdown",
   "metadata": {},
   "source": [
    "### Logistic Regression"
   ]
  },
  {
   "cell_type": "markdown",
   "metadata": {},
   "source": [
    "#### Feature selection"
   ]
  },
  {
   "cell_type": "code",
   "execution_count": 12,
   "metadata": {
    "collapsed": false
   },
   "outputs": [],
   "source": [
    "#cv = ShuffleSplit(len(X_train), n_iter=7, test_size=0.30, random_state=0)\n",
    "#estimator = LogisticRegression()\n",
    "#selector = RFECV(estimator, step=1, cv=5)\n",
    "#selector = selector.fit(X_train, y_train) "
   ]
  },
  {
   "cell_type": "code",
   "execution_count": 462,
   "metadata": {
    "collapsed": false
   },
   "outputs": [],
   "source": [
    "#X_train_new = selector.transform(X_train)\n",
    "#X_test_new = selector.transform(X_test)"
   ]
  },
  {
   "cell_type": "markdown",
   "metadata": {},
   "source": [
    "####Model tuning"
   ]
  },
  {
   "cell_type": "code",
   "execution_count": 486,
   "metadata": {
    "collapsed": false,
    "scrolled": true
   },
   "outputs": [
    {
     "name": "stdout",
     "output_type": "stream",
     "text": [
      "# Tuning hyper-parameters for accuracy\n",
      "\n",
      "Best parameters set found on development set:\n",
      "\n",
      "{'C': 0.0001}\n",
      "\n",
      "Grid scores on development set:\n",
      "\n",
      "0.880 (+/-0.013) for {'C': 1e-05}\n",
      "0.880 (+/-0.012) for {'C': 0.0001}\n",
      "0.878 (+/-0.016) for {'C': 0.001}\n",
      "0.878 (+/-0.019) for {'C': 0.01}\n",
      "0.879 (+/-0.010) for {'C': 0.1}\n",
      "0.871 (+/-0.012) for {'C': 1}\n",
      "0.870 (+/-0.018) for {'C': 10}\n",
      "0.870 (+/-0.018) for {'C': 100}\n",
      "0.871 (+/-0.018) for {'C': 1000}\n",
      "\n",
      "Detailed classification report:\n",
      "\n",
      "The model is trained on the full development set.\n",
      "The scores are computed on the full evaluation set.\n",
      "\n",
      "             precision    recall  f1-score   support\n",
      "\n",
      "        0.0       0.87      1.00      0.93       808\n",
      "        1.0       0.33      0.01      0.02       119\n",
      "\n",
      "avg / total       0.80      0.87      0.81       927\n",
      "\n",
      "\n",
      "# Tuning hyper-parameters for precision\n",
      "\n",
      "Best parameters set found on development set:\n",
      "\n",
      "{'C': 0.0001}\n",
      "\n",
      "Grid scores on development set:\n",
      "\n",
      "0.443 (+/-0.084) for {'C': 1e-05}\n",
      "0.462 (+/-0.109) for {'C': 0.0001}\n",
      "0.000 (+/-0.000) for {'C': 0.001}\n",
      "0.111 (+/-0.314) for {'C': 0.01}\n",
      "0.450 (+/-0.223) for {'C': 0.1}\n",
      "0.382 (+/-0.197) for {'C': 1}\n",
      "0.382 (+/-0.236) for {'C': 10}\n",
      "0.392 (+/-0.221) for {'C': 100}\n",
      "0.399 (+/-0.212) for {'C': 1000}\n",
      "\n",
      "Detailed classification report:\n",
      "\n",
      "The model is trained on the full development set.\n",
      "The scores are computed on the full evaluation set.\n",
      "\n",
      "             precision    recall  f1-score   support\n",
      "\n",
      "        0.0       0.87      1.00      0.93       808\n",
      "        1.0       0.33      0.01      0.02       119\n",
      "\n",
      "avg / total       0.80      0.87      0.81       927\n",
      "\n",
      "\n",
      "# Tuning hyper-parameters for recall\n",
      "\n",
      "Best parameters set found on development set:\n",
      "\n",
      "{'C': 1000}\n",
      "\n",
      "Grid scores on development set:\n",
      "\n",
      "0.045 (+/-0.062) for {'C': 1e-05}\n",
      "0.041 (+/-0.049) for {'C': 0.0001}\n",
      "0.000 (+/-0.000) for {'C': 0.001}\n",
      "0.010 (+/-0.027) for {'C': 0.01}\n",
      "0.070 (+/-0.010) for {'C': 0.1}\n",
      "0.139 (+/-0.040) for {'C': 1}\n",
      "0.160 (+/-0.072) for {'C': 10}\n",
      "0.169 (+/-0.061) for {'C': 100}\n",
      "0.174 (+/-0.059) for {'C': 1000}\n",
      "\n",
      "Detailed classification report:\n",
      "\n",
      "The model is trained on the full development set.\n",
      "The scores are computed on the full evaluation set.\n",
      "\n",
      "             precision    recall  f1-score   support\n",
      "\n",
      "        0.0       0.88      0.98      0.93       808\n",
      "        1.0       0.44      0.12      0.19       119\n",
      "\n",
      "avg / total       0.83      0.87      0.83       927\n",
      "\n",
      "\n",
      "# Tuning hyper-parameters for roc_auc\n",
      "\n",
      "Best parameters set found on development set:\n",
      "\n",
      "{'C': 0.01}\n",
      "\n",
      "Grid scores on development set:\n",
      "\n",
      "0.752 (+/-0.076) for {'C': 1e-05}\n",
      "0.753 (+/-0.076) for {'C': 0.0001}\n",
      "0.759 (+/-0.075) for {'C': 0.001}\n",
      "0.770 (+/-0.070) for {'C': 0.01}\n",
      "0.764 (+/-0.057) for {'C': 0.1}\n",
      "0.751 (+/-0.055) for {'C': 1}\n",
      "0.745 (+/-0.052) for {'C': 10}\n",
      "0.741 (+/-0.054) for {'C': 100}\n",
      "0.741 (+/-0.053) for {'C': 1000}\n",
      "\n",
      "Detailed classification report:\n",
      "\n",
      "The model is trained on the full development set.\n",
      "The scores are computed on the full evaluation set.\n",
      "\n",
      "             precision    recall  f1-score   support\n",
      "\n",
      "        0.0       0.88      1.00      0.93       808\n",
      "        1.0       0.57      0.03      0.06       119\n",
      "\n",
      "avg / total       0.84      0.87      0.82       927\n",
      "\n",
      "\n"
     ]
    }
   ],
   "source": [
    "tuned_params = [{'C': [.00001, .0001, .001, .01, .10, 1, 10, 100, 1000]}]\n",
    "scores = ['accuracy', 'precision', 'recall', 'roc_auc']\n",
    "\n",
    "model_search(LogisticRegression(), tuned_params, scores, X_train_scaled, y_train, X_test_scaled, y_test)"
   ]
  },
  {
   "cell_type": "markdown",
   "metadata": {},
   "source": [
    "#### Cross validate"
   ]
  },
  {
   "cell_type": "code",
   "execution_count": 495,
   "metadata": {
    "collapsed": false
   },
   "outputs": [
    {
     "name": "stdout",
     "output_type": "stream",
     "text": [
      "Training Accuracy:  0.873786407767\n",
      "Cross Validation Score: 0.87 (0.01)\n"
     ]
    }
   ],
   "source": [
    "log_model = LogisticRegression().fit(X_train_scaled, y_train)\n",
    "y_pred = log_model.predict(X_test_scaled)\n",
    "\n",
    "print 'Training Accuracy: ', accuracy_score(y_test, y_pred)\n",
    "\n",
    "cv = ShuffleSplit(len(X_scaled), n_iter=7, test_size=0.30, random_state=0)\n",
    "cv_acc = cross_val_score(log_model, X_scaled, y, scoring='accuracy', cv=cv)\n",
    "print 'Cross Validation Score: {0:0.2f} ({1:0.2f})'.format(cv_acc.mean(), cv_acc.std())"
   ]
  },
  {
   "cell_type": "markdown",
   "metadata": {},
   "source": [
    "#### Think about writing columns and coefficients to csv to import into javascript"
   ]
  },
  {
   "cell_type": "code",
   "execution_count": 425,
   "metadata": {
    "collapsed": true
   },
   "outputs": [
    {
     "data": {
      "text/plain": [
       "[(u'age', 0.00010561515631623113),\n",
       " (u'default', -0.0018244460989285767),\n",
       " (u'housing', -0.041008084259231692),\n",
       " (u'loan', 0.059407521204563322),\n",
       " (u'emp_var_rate', -0.35599149600886337),\n",
       " (u'cons_price_idx', 0.45704662911204724),\n",
       " (u'cons_conf_idx', 0.013503667487591783),\n",
       " (u'euribor3m', 0.073213791894367539),\n",
       " (u'nr_employed', -0.0085623324260253406),\n",
       " (u'month_apr', -0.20141961606777251),\n",
       " (u'month_aug', 0.064813062215630865),\n",
       " (u'month_dec', 0.10769586077564967),\n",
       " (u'month_jul', 0.15149695146889047),\n",
       " (u'month_jun', 0.1772762150911277),\n",
       " (u'month_may', -0.69310360131128412),\n",
       " (u'month_nov', -0.36951603944299366),\n",
       " (u'month_oct', -0.018207144225059611),\n",
       " (u'month_sep', -0.21511793787486069),\n",
       " (u'day_of_week_fri', -0.15730616324683958),\n",
       " (u'day_of_week_mon', -0.33833219438302897),\n",
       " (u'day_of_week_thu', -0.093926716476159106),\n",
       " (u'day_of_week_tue', -0.081208204301114958),\n",
       " (u'job_admin', 0.021134525573753452),\n",
       " (u'job_entrepreneur', -0.076669225028968044),\n",
       " (u'job_housemaid', -0.014586589657395425),\n",
       " (u'job_management', 0.024818675265214557),\n",
       " (u'job_retired', 0.29448367227073335),\n",
       " (u'job_self_employed', -0.044599781798795993),\n",
       " (u'job_services', -0.11042167856591234),\n",
       " (u'job_student', 0.23840316574265405),\n",
       " (u'job_technician', 0.028370432637853275),\n",
       " (u'job_unemployed', 0.047761628700745136),\n",
       " (u'marital_divorced', -0.10793502363633466),\n",
       " (u'marital_single', -0.038484665523676034),\n",
       " (u'education_basic_4y', -0.1214762582711216),\n",
       " (u'education_basic_6y', -0.015852423707742969),\n",
       " (u'education_basic_9y', -0.18491561493573705),\n",
       " (u'education_high_school', -0.090771806160621998),\n",
       " (u'education_illiterate', -0.0014209263575190277),\n",
       " (u'education_professional_course', -0.11512153339435607),\n",
       " (u'contact_telephone', -0.52081248335373787)]"
      ]
     },
     "execution_count": 425,
     "metadata": {},
     "output_type": "execute_result"
    }
   ],
   "source": [
    "zip(bank.columns[1:], log_model.coef_[0])"
   ]
  },
  {
   "cell_type": "code",
   "execution_count": 428,
   "metadata": {
    "collapsed": false
   },
   "outputs": [
    {
     "data": {
      "text/plain": [
       "array([ 0.00244022])"
      ]
     },
     "execution_count": 428,
     "metadata": {},
     "output_type": "execute_result"
    }
   ],
   "source": [
    "log_model.intercept_"
   ]
  },
  {
   "cell_type": "code",
   "execution_count": 436,
   "metadata": {
    "collapsed": false
   },
   "outputs": [
    {
     "name": "stdout",
     "output_type": "stream",
     "text": [
      "[  3.89884260e+01  -7.11869172e-02   9.35211947e+01  -4.05883464e+01\n",
      "   3.46187006e+00   5.16085539e+03]\n",
      "[ 10.27404393   1.60942547   0.58472209   4.79083757   1.77626918\n",
      "  75.15150606]\n"
     ]
    }
   ],
   "source": [
    "print std_scale.mean_\n",
    "print std_scale.std_"
   ]
  },
  {
   "cell_type": "markdown",
   "metadata": {},
   "source": [
    "#### Plot ROC Curve"
   ]
  },
  {
   "cell_type": "code",
   "execution_count": 496,
   "metadata": {
    "collapsed": false,
    "scrolled": true
   },
   "outputs": [
    {
     "data": {
      "image/png": "[encoded data removed]",
      "text/plain": [
       "<matplotlib.figure.Figure at 0x10d1d43d0>"
      ]
     },
     "metadata": {},
     "output_type": "display_data"
    }
   ],
   "source": [
    "y_scores = log_model.predict_proba(X_test_scaled)\n",
    "plot_ROC_curve(y_test, y_scores[:,1], 'r', 'Logistic Regression')"
   ]
  },
  {
   "cell_type": "markdown",
   "metadata": {},
   "source": [
    "### Random Forest"
   ]
  },
  {
   "cell_type": "code",
   "execution_count": 494,
   "metadata": {
    "collapsed": false
   },
   "outputs": [
    {
     "name": "stdout",
     "output_type": "stream",
     "text": [
      "# Tuning hyper-parameters for accuracy\n",
      "\n",
      "Best parameters set found on development set:\n",
      "\n",
      "{'max_features': 8, 'n_estimators': 200}\n",
      "\n",
      "Grid scores on development set:\n",
      "\n",
      "0.872 (+/-0.011) for {'max_features': 2, 'n_estimators': 10}\n",
      "0.874 (+/-0.020) for {'max_features': 2, 'n_estimators': 30}\n",
      "0.874 (+/-0.016) for {'max_features': 2, 'n_estimators': 100}\n",
      "0.873 (+/-0.017) for {'max_features': 2, 'n_estimators': 200}\n",
      "0.875 (+/-0.018) for {'max_features': 2, 'n_estimators': 250}\n",
      "0.869 (+/-0.011) for {'max_features': 4, 'n_estimators': 10}\n",
      "0.876 (+/-0.010) for {'max_features': 4, 'n_estimators': 30}\n",
      "0.877 (+/-0.012) for {'max_features': 4, 'n_estimators': 100}\n",
      "0.877 (+/-0.018) for {'max_features': 4, 'n_estimators': 200}\n",
      "0.874 (+/-0.020) for {'max_features': 4, 'n_estimators': 250}\n",
      "0.867 (+/-0.008) for {'max_features': 8, 'n_estimators': 10}\n",
      "0.876 (+/-0.019) for {'max_features': 8, 'n_estimators': 30}\n",
      "0.875 (+/-0.019) for {'max_features': 8, 'n_estimators': 100}\n",
      "0.878 (+/-0.022) for {'max_features': 8, 'n_estimators': 200}\n",
      "0.877 (+/-0.024) for {'max_features': 8, 'n_estimators': 250}\n",
      "\n",
      "Detailed classification report:\n",
      "\n",
      "The model is trained on the full development set.\n",
      "The scores are computed on the full evaluation set.\n",
      "\n",
      "             precision    recall  f1-score   support\n",
      "\n",
      "        0.0       0.90      0.97      0.93       808\n",
      "        1.0       0.58      0.30      0.40       119\n",
      "\n",
      "avg / total       0.86      0.88      0.87       927\n",
      "\n",
      "\n",
      "# Tuning hyper-parameters for precision\n",
      "\n",
      "Best parameters set found on development set:\n",
      "\n",
      "{'max_features': 8, 'n_estimators': 30}\n",
      "\n",
      "Grid scores on development set:\n",
      "\n",
      "0.320 (+/-0.116) for {'max_features': 2, 'n_estimators': 10}\n",
      "0.372 (+/-0.237) for {'max_features': 2, 'n_estimators': 30}\n",
      "0.358 (+/-0.149) for {'max_features': 2, 'n_estimators': 100}\n",
      "0.409 (+/-0.315) for {'max_features': 2, 'n_estimators': 200}\n",
      "0.375 (+/-0.296) for {'max_features': 2, 'n_estimators': 250}\n",
      "0.412 (+/-0.237) for {'max_features': 4, 'n_estimators': 10}\n",
      "0.446 (+/-0.269) for {'max_features': 4, 'n_estimators': 30}\n",
      "0.418 (+/-0.300) for {'max_features': 4, 'n_estimators': 100}\n",
      "0.432 (+/-0.283) for {'max_features': 4, 'n_estimators': 200}\n",
      "0.452 (+/-0.159) for {'max_features': 4, 'n_estimators': 250}\n",
      "0.381 (+/-0.266) for {'max_features': 8, 'n_estimators': 10}\n",
      "0.477 (+/-0.167) for {'max_features': 8, 'n_estimators': 30}\n",
      "0.438 (+/-0.217) for {'max_features': 8, 'n_estimators': 100}\n",
      "0.468 (+/-0.241) for {'max_features': 8, 'n_estimators': 200}\n",
      "0.434 (+/-0.244) for {'max_features': 8, 'n_estimators': 250}\n",
      "\n",
      "Detailed classification report:\n",
      "\n",
      "The model is trained on the full development set.\n",
      "The scores are computed on the full evaluation set.\n",
      "\n",
      "             precision    recall  f1-score   support\n",
      "\n",
      "        0.0       0.90      0.97      0.93       808\n",
      "        1.0       0.53      0.24      0.33       119\n",
      "\n",
      "avg / total       0.85      0.87      0.85       927\n",
      "\n",
      "\n",
      "# Tuning hyper-parameters for recall\n",
      "\n",
      "Best parameters set found on development set:\n",
      "\n",
      "{'max_features': 8, 'n_estimators': 200}\n",
      "\n",
      "Grid scores on development set:\n",
      "\n",
      "0.103 (+/-0.044) for {'max_features': 2, 'n_estimators': 10}\n",
      "0.099 (+/-0.021) for {'max_features': 2, 'n_estimators': 30}\n",
      "0.124 (+/-0.053) for {'max_features': 2, 'n_estimators': 100}\n",
      "0.115 (+/-0.072) for {'max_features': 2, 'n_estimators': 200}\n",
      "0.102 (+/-0.074) for {'max_features': 2, 'n_estimators': 250}\n",
      "0.145 (+/-0.091) for {'max_features': 4, 'n_estimators': 10}\n",
      "0.159 (+/-0.056) for {'max_features': 4, 'n_estimators': 30}\n",
      "0.160 (+/-0.092) for {'max_features': 4, 'n_estimators': 100}\n",
      "0.142 (+/-0.047) for {'max_features': 4, 'n_estimators': 200}\n",
      "0.163 (+/-0.101) for {'max_features': 4, 'n_estimators': 250}\n",
      "0.137 (+/-0.080) for {'max_features': 8, 'n_estimators': 10}\n",
      "0.169 (+/-0.101) for {'max_features': 8, 'n_estimators': 30}\n",
      "0.187 (+/-0.092) for {'max_features': 8, 'n_estimators': 100}\n",
      "0.203 (+/-0.121) for {'max_features': 8, 'n_estimators': 200}\n",
      "0.202 (+/-0.134) for {'max_features': 8, 'n_estimators': 250}\n",
      "\n",
      "Detailed classification report:\n",
      "\n",
      "The model is trained on the full development set.\n",
      "The scores are computed on the full evaluation set.\n",
      "\n",
      "             precision    recall  f1-score   support\n",
      "\n",
      "        0.0       0.90      0.97      0.93       808\n",
      "        1.0       0.55      0.28      0.37       119\n",
      "\n",
      "avg / total       0.86      0.88      0.86       927\n",
      "\n",
      "\n",
      "# Tuning hyper-parameters for roc_auc\n",
      "\n",
      "Best parameters set found on development set:\n",
      "\n",
      "{'max_features': 8, 'n_estimators': 250}\n",
      "\n",
      "Grid scores on development set:\n",
      "\n",
      "0.685 (+/-0.025) for {'max_features': 2, 'n_estimators': 10}\n",
      "0.717 (+/-0.030) for {'max_features': 2, 'n_estimators': 30}\n",
      "0.720 (+/-0.027) for {'max_features': 2, 'n_estimators': 100}\n",
      "0.717 (+/-0.032) for {'max_features': 2, 'n_estimators': 200}\n",
      "0.720 (+/-0.031) for {'max_features': 2, 'n_estimators': 250}\n",
      "0.704 (+/-0.033) for {'max_features': 4, 'n_estimators': 10}\n",
      "0.716 (+/-0.010) for {'max_features': 4, 'n_estimators': 30}\n",
      "0.716 (+/-0.030) for {'max_features': 4, 'n_estimators': 100}\n",
      "0.716 (+/-0.028) for {'max_features': 4, 'n_estimators': 200}\n",
      "0.718 (+/-0.024) for {'max_features': 4, 'n_estimators': 250}\n",
      "0.690 (+/-0.007) for {'max_features': 8, 'n_estimators': 10}\n",
      "0.716 (+/-0.031) for {'max_features': 8, 'n_estimators': 30}\n",
      "0.709 (+/-0.037) for {'max_features': 8, 'n_estimators': 100}\n",
      "0.722 (+/-0.035) for {'max_features': 8, 'n_estimators': 200}\n",
      "0.724 (+/-0.035) for {'max_features': 8, 'n_estimators': 250}\n",
      "\n",
      "Detailed classification report:\n",
      "\n",
      "The model is trained on the full development set.\n",
      "The scores are computed on the full evaluation set.\n",
      "\n",
      "             precision    recall  f1-score   support\n",
      "\n",
      "        0.0       0.90      0.97      0.93       808\n",
      "        1.0       0.56      0.29      0.39       119\n",
      "\n",
      "avg / total       0.86      0.88      0.86       927\n",
      "\n",
      "\n"
     ]
    }
   ],
   "source": [
    "tuned_params = [{'n_estimators': [10,30,100,200,250],  'max_features': [2,4,8]}]\n",
    "scores = ['accuracy', 'precision', 'recall', 'roc_auc']\n",
    "\n",
    "model_search(RandomForestClassifier(n_jobs=1), tuned_params, scores, X_train_scaled, y_train, X_test_scaled, y_test)"
   ]
  },
  {
   "cell_type": "markdown",
   "metadata": {},
   "source": [
    "#### Cross validation"
   ]
  },
  {
   "cell_type": "code",
   "execution_count": 497,
   "metadata": {
    "collapsed": false
   },
   "outputs": [
    {
     "name": "stdout",
     "output_type": "stream",
     "text": [
      "Random Forest Accuracy:  0.880258899676\n",
      "Cross Validation Accuracy: 0.88 (0.01)\n"
     ]
    }
   ],
   "source": [
    "rf = RandomForestClassifier(n_estimators=250, max_depth=10, max_features=2).fit(X_train_scaled, y_train)\n",
    "y_pred = rf.predict(X_test_scaled)\n",
    "\n",
    "print \"Random Forest Accuracy: \", accuracy_score(y_test, y_pred)\n",
    "\n",
    "cv = ShuffleSplit(len(X_scaled), n_iter=7, test_size=0.30, random_state=0)\n",
    "cv_accuracy = cross_val_score(rf, X_scaled, y, scoring='accuracy', cv=cv)\n",
    "print 'Cross Validation Accuracy: {0:0.2f} ({1:0.2f})'.format(cv_accuracy.mean(), cv_accuracy.std())"
   ]
  },
  {
   "cell_type": "markdown",
   "metadata": {},
   "source": [
    "#### Plot ROC Curve"
   ]
  },
  {
   "cell_type": "code",
   "execution_count": 498,
   "metadata": {
    "collapsed": false
   },
   "outputs": [
    {
     "data": {
      "image/png": "[encoded data removed]",
      "text/plain": [
       "<matplotlib.figure.Figure at 0x10ec0a850>"
      ]
     },
     "metadata": {},
     "output_type": "display_data"
    }
   ],
   "source": [
    "y_scores = rf.predict_proba(X_test_scaled)\n",
    "plot_ROC_curve(y_test, y_scores[:,1], 'c', 'Random Forest')"
   ]
  },
  {
   "cell_type": "markdown",
   "metadata": {},
   "source": [
    "### KNearest Neighbors"
   ]
  },
  {
   "cell_type": "code",
   "execution_count": 499,
   "metadata": {
    "collapsed": false,
    "scrolled": true
   },
   "outputs": [
    {
     "name": "stdout",
     "output_type": "stream",
     "text": [
      "# Tuning hyper-parameters for accuracy\n",
      "\n",
      "Best parameters set found on development set:\n",
      "\n",
      "{'n_neighbors': 12}\n",
      "\n",
      "Grid scores on development set:\n",
      "\n",
      "0.824 (+/-0.008) for {'n_neighbors': 1}\n",
      "0.874 (+/-0.013) for {'n_neighbors': 2}\n",
      "0.865 (+/-0.010) for {'n_neighbors': 3}\n",
      "0.877 (+/-0.018) for {'n_neighbors': 4}\n",
      "0.874 (+/-0.014) for {'n_neighbors': 5}\n",
      "0.881 (+/-0.022) for {'n_neighbors': 6}\n",
      "0.875 (+/-0.016) for {'n_neighbors': 7}\n",
      "0.879 (+/-0.023) for {'n_neighbors': 8}\n",
      "0.876 (+/-0.026) for {'n_neighbors': 9}\n",
      "0.881 (+/-0.020) for {'n_neighbors': 10}\n",
      "0.881 (+/-0.026) for {'n_neighbors': 11}\n",
      "0.883 (+/-0.020) for {'n_neighbors': 12}\n",
      "0.882 (+/-0.020) for {'n_neighbors': 13}\n",
      "0.882 (+/-0.015) for {'n_neighbors': 14}\n",
      "0.878 (+/-0.014) for {'n_neighbors': 15}\n",
      "0.879 (+/-0.012) for {'n_neighbors': 16}\n",
      "0.878 (+/-0.018) for {'n_neighbors': 17}\n",
      "0.878 (+/-0.016) for {'n_neighbors': 18}\n",
      "0.878 (+/-0.017) for {'n_neighbors': 19}\n",
      "0.876 (+/-0.010) for {'n_neighbors': 20}\n",
      "0.877 (+/-0.012) for {'n_neighbors': 21}\n",
      "0.878 (+/-0.016) for {'n_neighbors': 22}\n",
      "0.879 (+/-0.015) for {'n_neighbors': 23}\n",
      "0.879 (+/-0.019) for {'n_neighbors': 24}\n",
      "0.880 (+/-0.019) for {'n_neighbors': 25}\n",
      "0.880 (+/-0.016) for {'n_neighbors': 26}\n",
      "0.879 (+/-0.023) for {'n_neighbors': 27}\n",
      "0.880 (+/-0.022) for {'n_neighbors': 28}\n",
      "0.877 (+/-0.020) for {'n_neighbors': 29}\n",
      "\n",
      "Detailed classification report:\n",
      "\n",
      "The model is trained on the full development set.\n",
      "The scores are computed on the full evaluation set.\n",
      "\n",
      "             precision    recall  f1-score   support\n",
      "\n",
      "        0.0       0.88      0.99      0.93       808\n",
      "        1.0       0.57      0.10      0.17       119\n",
      "\n",
      "avg / total       0.84      0.87      0.83       927\n",
      "\n",
      "\n",
      "# Tuning hyper-parameters for precision\n",
      "\n",
      "Best parameters set found on development set:\n",
      "\n",
      "{'n_neighbors': 12}\n",
      "\n",
      "Grid scores on development set:\n",
      "\n",
      "0.262 (+/-0.080) for {'n_neighbors': 1}\n",
      "0.356 (+/-0.140) for {'n_neighbors': 2}\n",
      "0.385 (+/-0.028) for {'n_neighbors': 3}\n",
      "0.426 (+/-0.161) for {'n_neighbors': 4}\n",
      "0.434 (+/-0.178) for {'n_neighbors': 5}\n",
      "0.486 (+/-0.195) for {'n_neighbors': 6}\n",
      "0.430 (+/-0.137) for {'n_neighbors': 7}\n",
      "0.468 (+/-0.446) for {'n_neighbors': 8}\n",
      "0.458 (+/-0.403) for {'n_neighbors': 9}\n",
      "0.539 (+/-0.485) for {'n_neighbors': 10}\n",
      "0.507 (+/-0.463) for {'n_neighbors': 11}\n",
      "0.549 (+/-0.288) for {'n_neighbors': 12}\n",
      "0.521 (+/-0.385) for {'n_neighbors': 13}\n",
      "0.513 (+/-0.217) for {'n_neighbors': 14}\n",
      "0.446 (+/-0.240) for {'n_neighbors': 15}\n",
      "0.446 (+/-0.456) for {'n_neighbors': 16}\n",
      "0.467 (+/-0.288) for {'n_neighbors': 17}\n",
      "0.469 (+/-0.399) for {'n_neighbors': 18}\n",
      "0.476 (+/-0.485) for {'n_neighbors': 19}\n",
      "0.396 (+/-0.421) for {'n_neighbors': 20}\n",
      "0.449 (+/-0.363) for {'n_neighbors': 21}\n",
      "0.438 (+/-0.325) for {'n_neighbors': 22}\n",
      "0.465 (+/-0.244) for {'n_neighbors': 23}\n",
      "0.448 (+/-0.182) for {'n_neighbors': 24}\n",
      "0.482 (+/-0.269) for {'n_neighbors': 25}\n",
      "0.467 (+/-0.225) for {'n_neighbors': 26}\n",
      "0.468 (+/-0.200) for {'n_neighbors': 27}\n",
      "0.505 (+/-0.198) for {'n_neighbors': 28}\n",
      "0.412 (+/-0.070) for {'n_neighbors': 29}\n",
      "\n",
      "Detailed classification report:\n",
      "\n",
      "The model is trained on the full development set.\n",
      "The scores are computed on the full evaluation set.\n",
      "\n",
      "             precision    recall  f1-score   support\n",
      "\n",
      "        0.0       0.88      0.99      0.93       808\n",
      "        1.0       0.57      0.10      0.17       119\n",
      "\n",
      "avg / total       0.84      0.87      0.83       927\n",
      "\n",
      "\n",
      "# Tuning hyper-parameters for recall\n",
      "\n",
      "Best parameters set found on development set:\n",
      "\n",
      "{'n_neighbors': 1}\n",
      "\n",
      "Grid scores on development set:\n",
      "\n",
      "0.264 (+/-0.031) for {'n_neighbors': 1}\n",
      "0.091 (+/-0.052) for {'n_neighbors': 2}\n",
      "0.234 (+/-0.102) for {'n_neighbors': 3}\n",
      "0.115 (+/-0.047) for {'n_neighbors': 4}\n",
      "0.176 (+/-0.065) for {'n_neighbors': 5}\n",
      "0.112 (+/-0.088) for {'n_neighbors': 6}\n",
      "0.159 (+/-0.065) for {'n_neighbors': 7}\n",
      "0.096 (+/-0.066) for {'n_neighbors': 8}\n",
      "0.140 (+/-0.075) for {'n_neighbors': 9}\n",
      "0.079 (+/-0.023) for {'n_neighbors': 10}\n",
      "0.129 (+/-0.080) for {'n_neighbors': 11}\n",
      "0.087 (+/-0.019) for {'n_neighbors': 12}\n",
      "0.109 (+/-0.051) for {'n_neighbors': 13}\n",
      "0.069 (+/-0.016) for {'n_neighbors': 14}\n",
      "0.091 (+/-0.011) for {'n_neighbors': 15}\n",
      "0.064 (+/-0.050) for {'n_neighbors': 16}\n",
      "0.101 (+/-0.023) for {'n_neighbors': 17}\n",
      "0.073 (+/-0.024) for {'n_neighbors': 18}\n",
      "0.090 (+/-0.032) for {'n_neighbors': 19}\n",
      "0.055 (+/-0.049) for {'n_neighbors': 20}\n",
      "0.082 (+/-0.014) for {'n_neighbors': 21}\n",
      "0.057 (+/-0.011) for {'n_neighbors': 22}\n",
      "0.092 (+/-0.014) for {'n_neighbors': 23}\n",
      "0.066 (+/-0.010) for {'n_neighbors': 24}\n",
      "0.091 (+/-0.011) for {'n_neighbors': 25}\n",
      "0.065 (+/-0.015) for {'n_neighbors': 26}\n",
      "0.096 (+/-0.012) for {'n_neighbors': 27}\n",
      "0.070 (+/-0.047) for {'n_neighbors': 28}\n",
      "0.079 (+/-0.043) for {'n_neighbors': 29}\n",
      "\n",
      "Detailed classification report:\n",
      "\n",
      "The model is trained on the full development set.\n",
      "The scores are computed on the full evaluation set.\n",
      "\n",
      "             precision    recall  f1-score   support\n",
      "\n",
      "        0.0       0.90      0.92      0.91       808\n",
      "        1.0       0.37      0.32      0.34       119\n",
      "\n",
      "avg / total       0.83      0.84      0.84       927\n",
      "\n",
      "\n",
      "# Tuning hyper-parameters for roc_auc\n",
      "\n",
      "Best parameters set found on development set:\n",
      "\n",
      "{'n_neighbors': 29}\n",
      "\n",
      "Grid scores on development set:\n",
      "\n",
      "0.582 (+/-0.023) for {'n_neighbors': 1}\n",
      "0.644 (+/-0.041) for {'n_neighbors': 2}\n",
      "0.656 (+/-0.015) for {'n_neighbors': 3}\n",
      "0.682 (+/-0.008) for {'n_neighbors': 4}\n",
      "0.695 (+/-0.007) for {'n_neighbors': 5}\n",
      "0.698 (+/-0.008) for {'n_neighbors': 6}\n",
      "0.696 (+/-0.004) for {'n_neighbors': 7}\n",
      "0.703 (+/-0.015) for {'n_neighbors': 8}\n",
      "0.706 (+/-0.012) for {'n_neighbors': 9}\n",
      "0.713 (+/-0.035) for {'n_neighbors': 10}\n",
      "0.711 (+/-0.030) for {'n_neighbors': 11}\n",
      "0.711 (+/-0.022) for {'n_neighbors': 12}\n",
      "0.714 (+/-0.035) for {'n_neighbors': 13}\n",
      "0.721 (+/-0.042) for {'n_neighbors': 14}\n",
      "0.722 (+/-0.032) for {'n_neighbors': 15}\n",
      "0.722 (+/-0.032) for {'n_neighbors': 16}\n",
      "0.724 (+/-0.025) for {'n_neighbors': 17}\n",
      "0.724 (+/-0.022) for {'n_neighbors': 18}\n",
      "0.727 (+/-0.019) for {'n_neighbors': 19}\n",
      "0.731 (+/-0.024) for {'n_neighbors': 20}\n",
      "0.734 (+/-0.023) for {'n_neighbors': 21}\n",
      "0.735 (+/-0.019) for {'n_neighbors': 22}\n",
      "0.739 (+/-0.017) for {'n_neighbors': 23}\n",
      "0.739 (+/-0.017) for {'n_neighbors': 24}\n",
      "0.740 (+/-0.021) for {'n_neighbors': 25}\n",
      "0.741 (+/-0.024) for {'n_neighbors': 26}\n",
      "0.739 (+/-0.022) for {'n_neighbors': 27}\n",
      "0.741 (+/-0.027) for {'n_neighbors': 28}\n",
      "0.743 (+/-0.027) for {'n_neighbors': 29}\n",
      "\n",
      "Detailed classification report:\n",
      "\n",
      "The model is trained on the full development set.\n",
      "The scores are computed on the full evaluation set.\n",
      "\n",
      "             precision    recall  f1-score   support\n",
      "\n",
      "        0.0       0.88      0.99      0.93       808\n",
      "        1.0       0.47      0.08      0.13       119\n",
      "\n",
      "avg / total       0.83      0.87      0.83       927\n",
      "\n",
      "\n"
     ]
    }
   ],
   "source": [
    "tuned_params = [{'n_neighbors': range(1,30)}]\n",
    "scores = ['accuracy', 'precision', 'recall', 'roc_auc']\n",
    "\n",
    "model_search(KNeighborsClassifier(), tuned_params, scores, X_train_scaled, y_train, X_test_scaled, y_test)"
   ]
  },
  {
   "cell_type": "markdown",
   "metadata": {},
   "source": [
    "#### Cross Validate"
   ]
  },
  {
   "cell_type": "code",
   "execution_count": 500,
   "metadata": {
    "collapsed": false
   },
   "outputs": [
    {
     "name": "stdout",
     "output_type": "stream",
     "text": [
      "Knn N=29 Accuracy:  0.870550161812\n",
      "Cross Validation Accuracy: 0.87 (0.01)\n"
     ]
    }
   ],
   "source": [
    "knn = KNeighborsClassifier(n_neighbors=29).fit(X_train_scaled, y_train)\n",
    "y_pred = knn.predict(X_test_scaled)\n",
    "\n",
    "print \"Knn N=29 Accuracy: \", accuracy_score(y_test, y_pred)\n",
    "\n",
    "cv = ShuffleSplit(len(X_scaled), n_iter=7, test_size=0.30, random_state=0)\n",
    "cv_accuracy = cross_val_score(knn, X_scaled, y, scoring='accuracy', cv=cv)\n",
    "print 'Cross Validation Accuracy: {0:0.2f} ({1:0.2f})'.format(cv_accuracy.mean(), cv_accuracy.std())"
   ]
  },
  {
   "cell_type": "markdown",
   "metadata": {},
   "source": [
    "#### Plot ROC Curve"
   ]
  },
  {
   "cell_type": "code",
   "execution_count": 501,
   "metadata": {
    "collapsed": false
   },
   "outputs": [
    {
     "data": {
      "image/png": "[encoded data removed]",
      "text/plain": [
       "<matplotlib.figure.Figure at 0x118ee2510>"
      ]
     },
     "metadata": {},
     "output_type": "display_data"
    }
   ],
   "source": [
    "y_scores = knn.predict_proba(X_test_scaled)\n",
    "plot_ROC_curve(y_test, y_scores[:,1], 'b', 'Knn N=29')"
   ]
  },
  {
   "cell_type": "markdown",
   "metadata": {},
   "source": [
    "### Support Vector Machine"
   ]
  },
  {
   "cell_type": "code",
   "execution_count": 503,
   "metadata": {
    "collapsed": false,
    "scrolled": true
   },
   "outputs": [
    {
     "name": "stdout",
     "output_type": "stream",
     "text": [
      "# Tuning hyper-parameters for accuracy\n",
      "\n",
      "Best parameters set found on development set:\n",
      "\n",
      "{'kernel': 'linear', 'C': 10}\n",
      "\n",
      "Grid scores on development set:\n",
      "\n",
      "0.882 (+/-0.017) for {'kernel': 'rbf', 'C': 1, 'gamma': 0.001}\n",
      "0.882 (+/-0.017) for {'kernel': 'rbf', 'C': 1, 'gamma': 0.0001}\n",
      "0.882 (+/-0.017) for {'kernel': 'rbf', 'C': 10, 'gamma': 0.001}\n",
      "0.882 (+/-0.017) for {'kernel': 'rbf', 'C': 10, 'gamma': 0.0001}\n",
      "0.882 (+/-0.017) for {'kernel': 'linear', 'C': 1}\n",
      "0.884 (+/-0.003) for {'kernel': 'linear', 'C': 10}\n",
      "\n",
      "Detailed classification report:\n",
      "\n",
      "The model is trained on the full development set.\n",
      "The scores are computed on the full evaluation set.\n",
      "\n",
      "             precision    recall  f1-score   support\n",
      "\n",
      "        0.0       0.88      0.99      0.93       808\n",
      "        1.0       0.50      0.07      0.12       119\n",
      "\n",
      "avg / total       0.83      0.87      0.83       927\n",
      "\n",
      "\n",
      "# Tuning hyper-parameters for precision\n",
      "\n",
      "Best parameters set found on development set:\n",
      "\n",
      "{'kernel': 'linear', 'C': 10}\n",
      "\n",
      "Grid scores on development set:\n",
      "\n",
      "0.000 (+/-0.000) for {'kernel': 'rbf', 'C': 1, 'gamma': 0.001}\n",
      "0.000 (+/-0.000) for {'kernel': 'rbf', 'C': 1, 'gamma': 0.0001}\n",
      "0.000 (+/-0.000) for {'kernel': 'rbf', 'C': 10, 'gamma': 0.001}\n",
      "0.000 (+/-0.000) for {'kernel': 'rbf', 'C': 10, 'gamma': 0.0001}\n",
      "0.000 (+/-0.000) for {'kernel': 'linear', 'C': 1}\n",
      "0.686 (+/-0.572) for {'kernel': 'linear', 'C': 10}\n",
      "\n",
      "Detailed classification report:\n",
      "\n",
      "The model is trained on the full development set.\n",
      "The scores are computed on the full evaluation set.\n",
      "\n",
      "             precision    recall  f1-score   support\n",
      "\n",
      "        0.0       0.88      0.99      0.93       808\n",
      "        1.0       0.50      0.07      0.12       119\n",
      "\n",
      "avg / total       0.83      0.87      0.83       927\n",
      "\n",
      "\n",
      "# Tuning hyper-parameters for recall\n",
      "\n",
      "Best parameters set found on development set:\n",
      "\n",
      "{'kernel': 'linear', 'C': 10}\n",
      "\n",
      "Grid scores on development set:\n",
      "\n",
      "0.000 (+/-0.000) for {'kernel': 'rbf', 'C': 1, 'gamma': 0.001}\n",
      "0.000 (+/-0.000) for {'kernel': 'rbf', 'C': 1, 'gamma': 0.0001}\n",
      "0.000 (+/-0.000) for {'kernel': 'rbf', 'C': 10, 'gamma': 0.001}\n",
      "0.000 (+/-0.000) for {'kernel': 'rbf', 'C': 10, 'gamma': 0.0001}\n",
      "0.000 (+/-0.000) for {'kernel': 'linear', 'C': 1}\n",
      "0.065 (+/-0.015) for {'kernel': 'linear', 'C': 10}\n",
      "\n",
      "Detailed classification report:\n",
      "\n",
      "The model is trained on the full development set.\n",
      "The scores are computed on the full evaluation set.\n",
      "\n",
      "             precision    recall  f1-score   support\n",
      "\n",
      "        0.0       0.88      0.99      0.93       808\n",
      "        1.0       0.50      0.07      0.12       119\n",
      "\n",
      "avg / total       0.83      0.87      0.83       927\n",
      "\n",
      "\n",
      "# Tuning hyper-parameters for roc_auc\n",
      "\n",
      "Best parameters set found on development set:\n",
      "\n",
      "{'kernel': 'rbf', 'C': 1, 'gamma': 0.0001}\n",
      "\n",
      "Grid scores on development set:\n",
      "\n",
      "0.649 (+/-0.040) for {'kernel': 'rbf', 'C': 1, 'gamma': 0.001}\n",
      "0.687 (+/-0.004) for {'kernel': 'rbf', 'C': 1, 'gamma': 0.0001}\n",
      "0.649 (+/-0.040) for {'kernel': 'rbf', 'C': 10, 'gamma': 0.001}\n",
      "0.584 (+/-0.033) for {'kernel': 'rbf', 'C': 10, 'gamma': 0.0001}\n",
      "0.612 (+/-0.120) for {'kernel': 'linear', 'C': 1}\n",
      "0.628 (+/-0.204) for {'kernel': 'linear', 'C': 10}\n",
      "\n",
      "Detailed classification report:\n",
      "\n",
      "The model is trained on the full development set.\n",
      "The scores are computed on the full evaluation set.\n",
      "\n",
      "             precision    recall  f1-score   support\n",
      "\n",
      "        0.0       0.87      1.00      0.93       808\n",
      "        1.0       0.00      0.00      0.00       119\n",
      "\n",
      "avg / total       0.76      0.87      0.81       927\n",
      "\n",
      "\n"
     ]
    }
   ],
   "source": [
    "tuned_params = [{'kernel': ['rbf'], 'gamma': [1e-3, 1e-4],\n",
    "                     'C': [1, 10]},\n",
    "                    {'kernel': ['linear'], 'C': [1, 10]}]\n",
    "scores = ['accuracy', 'precision', 'recall', 'roc_auc']\n",
    "\n",
    "model_search(SVC(), tuned_params, scores, X_train_scaled, y_train, X_test_scaled, y_test)"
   ]
  },
  {
   "cell_type": "markdown",
   "metadata": {},
   "source": [
    "#### Cross Validate"
   ]
  },
  {
   "cell_type": "code",
   "execution_count": 506,
   "metadata": {
    "collapsed": false
   },
   "outputs": [
    {
     "name": "stdout",
     "output_type": "stream",
     "text": [
      "SVM Accuracy:  0.871628910464\n",
      "Cross Validation Accuracy: 0.88 (0.01)\n"
     ]
    }
   ],
   "source": [
    "svm = SVC(probability=True).fit(X_train_scaled, y_train)\n",
    "y_pred = svm.predict(X_test_scaled)\n",
    "\n",
    "print \"SVM Accuracy: \", accuracy_score(y_test, y_pred)\n",
    "\n",
    "cv = ShuffleSplit(len(X_scaled), n_iter=7, test_size=0.30, random_state=0)\n",
    "cv_accuracy = cross_val_score(svm, X_scaled, y, scoring='accuracy', cv=cv)\n",
    "print 'Cross Validation Accuracy: {0:0.2f} ({1:0.2f})'.format(cv_accuracy.mean(), cv_accuracy.std())"
   ]
  },
  {
   "cell_type": "markdown",
   "metadata": {},
   "source": [
    "#### Plot ROC Curve"
   ]
  },
  {
   "cell_type": "code",
   "execution_count": 507,
   "metadata": {
    "collapsed": false
   },
   "outputs": [
    {
     "data": {
      "image/png": "[encoded data removed]",
      "text/plain": [
       "<matplotlib.figure.Figure at 0x118ee21d0>"
      ]
     },
     "metadata": {},
     "output_type": "display_data"
    }
   ],
   "source": [
    "y_scores = svm.predict_proba(X_test_scaled)\n",
    "plot_ROC_curve(y_test, y_scores[:,1], 'y', 'SVM')"
   ]
  },
  {
   "cell_type": "markdown",
   "metadata": {},
   "source": [
    "### Naive Bayes"
   ]
  },
  {
   "cell_type": "code",
   "execution_count": 508,
   "metadata": {
    "collapsed": false
   },
   "outputs": [
    {
     "name": "stdout",
     "output_type": "stream",
     "text": [
      "Accuracy Score: 0.21\n",
      "Precision Score: 0.14\n",
      "Recall Score: 0.97\n",
      "Roc_Auc Score: 0.54\n"
     ]
    }
   ],
   "source": [
    "gnb = GaussianNB().fit(X_train_scaled, y_train)\n",
    "y_pred = gnb.predict(X_test_scaled)\n",
    "print 'Accuracy Score: {0:0.2f}'.format(accuracy_score(y_test, y_pred))\n",
    "print 'Precision Score: {0:0.2f}'.format(precision_score(y_test, y_pred))\n",
    "print 'Recall Score: {0:0.2f}'.format(recall_score(y_test, y_pred))\n",
    "print 'Roc_Auc Score: {0:0.2f}'.format(roc_auc_score(y_test, y_pred))"
   ]
  },
  {
   "cell_type": "markdown",
   "metadata": {},
   "source": [
    "#### Cross validation"
   ]
  },
  {
   "cell_type": "code",
   "execution_count": 509,
   "metadata": {
    "collapsed": false
   },
   "outputs": [
    {
     "name": "stdout",
     "output_type": "stream",
     "text": [
      "Cross Validation Recall: 0.72 (0.45)\n"
     ]
    }
   ],
   "source": [
    "cv = ShuffleSplit(len(X_scaled), n_iter=7, test_size=0.30, random_state=0)\n",
    "cv_recall = cross_val_score(gnb, X_scaled, y, scoring='recall', cv=cv)\n",
    "print 'Cross Validation Recall: {0:0.2f} ({1:0.2f})'.format(cv_recall.mean(), cv_recall.std() * 2)"
   ]
  },
  {
   "cell_type": "markdown",
   "metadata": {},
   "source": [
    "#### Plot ROC Curve"
   ]
  },
  {
   "cell_type": "code",
   "execution_count": 511,
   "metadata": {
    "collapsed": false
   },
   "outputs": [
    {
     "data": {
      "image/png": "[encoded data removed]",
      "text/plain": [
       "<matplotlib.figure.Figure at 0x10eb751d0>"
      ]
     },
     "metadata": {},
     "output_type": "display_data"
    }
   ],
   "source": [
    "y_scores = gnb.predict_proba(X_test_scaled)\n",
    "plot_ROC_curve(y_test, y_scores[:,1], 'k', 'Naive Bayes')"
   ]
  },
  {
   "cell_type": "markdown",
   "metadata": {},
   "source": [
    "#### Testing Recall Score with Permutations"
   ]
  },
  {
   "cell_type": "code",
   "execution_count": 510,
   "metadata": {
    "collapsed": false
   },
   "outputs": [
    {
     "name": "stdout",
     "output_type": "stream",
     "text": [
      "Classification Recall: 0.732432432432 \n",
      "P-Value: 0.247524752475\n"
     ]
    },
    {
     "data": {
      "image/png": "[encoded data removed]",
      "text/plain": [
       "<matplotlib.figure.Figure at 0x10eb6d210>"
      ]
     },
     "metadata": {},
     "output_type": "display_data"
    }
   ],
   "source": [
    "cv = StratifiedKFold(y, 2)\n",
    "\n",
    "score, permutation_scores, pvalue = permutation_test_score(gnb, X_scaled, y,\n",
    "                                            scoring='recall', cv=cv,\n",
    "                                            n_permutations=100, n_jobs=1)\n",
    "\n",
    "print \"Classification Recall: %s \\nP-Value: %s\" % (score, pvalue)\n",
    "\n",
    "plt.figure(figsize=(10,8))\n",
    "n_classes = np.unique(y).size\n",
    "plt.hist(permutation_scores, 20, label='Permutation scores')\n",
    "ylim = plt.ylim()\n",
    "plt.plot(2 * [score], ylim, '--g', linewidth=3,\n",
    "        label='Recall Score')\n",
    "plt.plot(2 * [1. / n_classes], ylim, '--k', linewidth=3, label='Luck')\n",
    "\n",
    "plt.ylim(ylim)\n",
    "plt.legend()\n",
    "plt.xlabel('Score')\n",
    "plt.show()"
   ]
  },
  {
   "cell_type": "code",
   "execution_count": null,
   "metadata": {
    "collapsed": true
   },
   "outputs": [],
   "source": []
  }
 ],
 "metadata": {
  "kernelspec": {
   "display_name": "Python 2",
   "language": "python",
   "name": "python2"
  },
  "language_info": {
   "codemirror_mode": {
    "name": "ipython",
    "version": 2
   },
   "file_extension": ".py",
   "mimetype": "text/x-python",
   "name": "python",
   "nbconvert_exporter": "python",
   "pygments_lexer": "ipython2",
   "version": "2.7.9"
  }
 },
 "nbformat": 4,
 "nbformat_minor": 0
}
