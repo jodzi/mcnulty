{
 "cells": [
  {
   "cell_type": "code",
   "execution_count": 12,
   "metadata": {
    "collapsed": true
   },
   "outputs": [],
   "source": [
    "import pandas as pd\n",
    "import numpy as np\n",
    "from sklearn.cross_validation import train_test_split\n",
    "from sklearn.neighbors import KNeighborsClassifier\n",
    "from sklearn.linear_model import LogisticRegression\n",
    "from sklearn.naive_bayes import GaussianNB\n",
    "from sklearn.svm import SVC\n",
    "from sklearn.tree import DecisionTreeClassifier\n",
    "from sklearn.ensemble import RandomForestClassifier\n",
    "from sklearn.cross_validation import cross_val_score\n",
    "import sklearn.metrics\n",
    "from sklearn.learning_curve import learning_curve\n",
    "import matplotlib.pyplot as plt\n",
    "%matplotlib inline"
   ]
  },
  {
   "cell_type": "markdown",
   "metadata": {},
   "source": [
    "### Challenge 1"
   ]
  },
  {
   "cell_type": "code",
   "execution_count": 2,
   "metadata": {
    "collapsed": true
   },
   "outputs": [],
   "source": [
    "def change_vals(char):\n",
    "    if char == 'y':\n",
    "        return 1\n",
    "    elif char == 'n':\n",
    "        return 0\n",
    "\n",
    "func = [change_vals for i in range(18)]\n",
    "converter = dict(zip(range(1,18), func))\n",
    "\n",
    "columns = ['Class Name', 'handicapped-infants', 'water-project-cost-sharing', \\\n",
    "           'adoption-of-the-budget-resolution', 'physician-fee-freeze', 'el-salvador-aid', \\\n",
    "           'religious-groups-in-schools', 'anti-satellite-test-ban', 'aid-to-nicaraguan-contras', \\\n",
    "           'mx-missile', 'immigration', 'synfuels-corporation-cutback', 'education-spending', \\\n",
    "           'superfund-right-to-sue', 'crime, duty-free-exports', 'export-administration-act-south-africa']\n",
    "\n",
    "df = pd.read_csv('votes.csv', index_col=False, names=columns, converters=converter)\n",
    "\n",
    "means = [df[columns[i]].mean() for i in range(1,len(df.columns))]\n",
    "column_means_dict = dict(zip(df.columns[1:], means))\n",
    "df = df.fillna(column_means_dict, inplace=True)\n",
    "# Alternatively use df = df.fillna(df.mean())"
   ]
  },
  {
   "cell_type": "markdown",
   "metadata": {},
   "source": [
    "### Challenge 2"
   ]
  },
  {
   "cell_type": "code",
   "execution_count": 4,
   "metadata": {
    "collapsed": true
   },
   "outputs": [],
   "source": [
    "# Using cross_validation to split into training and test\n",
    "train, test = train_test_split(df)"
   ]
  },
  {
   "cell_type": "markdown",
   "metadata": {},
   "source": [
    "### Challenge 3"
   ]
  },
  {
   "cell_type": "code",
   "execution_count": 5,
   "metadata": {
    "collapsed": false
   },
   "outputs": [
    {
     "name": "stdout",
     "output_type": "stream",
     "text": [
      "Best k = 6\n"
     ]
    }
   ],
   "source": [
    "X_train = train[:,1:]\n",
    "y_train = train[:,0]\n",
    "X_test = test[:,1:]\n",
    "y_test = test[:,0]\n",
    "\n",
    "scores = []\n",
    "\n",
    "for i in range(1,21):\n",
    "    knn = KNeighborsClassifier(n_neighbors=i)\n",
    "    knn = knn.fit(X_train, y_train)\n",
    "    scores.append(knn.score(X_test, y_test))     \n",
    "    #y_pred = knn.predict(X_test)\n",
    "    #accuracy = sklearn.metrics.accuracy_score(y_test, y_pred)\n",
    "    #scores.append(accuracy)\n",
    "    \n",
    "best_k = scores.index(max(scores)) + 1\n",
    "print 'Best k = ' + str(best_k)"
   ]
  },
  {
   "cell_type": "markdown",
   "metadata": {},
   "source": [
    "### Challenge 4"
   ]
  },
  {
   "cell_type": "code",
   "execution_count": 6,
   "metadata": {
    "collapsed": false
   },
   "outputs": [
    {
     "name": "stdout",
     "output_type": "stream",
     "text": [
      "Logistic Regression Accuracy: 0.95\n"
     ]
    }
   ],
   "source": [
    "logistic_model = LogisticRegression()\n",
    "logistic_model.fit(X_train, y_train)\n",
    "log_score = logistic_model.score(X_test, y_test)\n",
    "print 'Logistic Regression Accuracy: {0:.2f}'.format(log_score)"
   ]
  },
  {
   "cell_type": "markdown",
   "metadata": {},
   "source": [
    "### Challenge 5"
   ]
  },
  {
   "cell_type": "code",
   "execution_count": 9,
   "metadata": {
    "collapsed": false
   },
   "outputs": [
    {
     "name": "stdout",
     "output_type": "stream",
     "text": [
      "democrat      267\n",
      "republican    168\n",
      "dtype: int64\n",
      "Predicting all democrat accuracy: 0.61\n",
      "Predicting all republican accuracy: 0.39\n"
     ]
    },
    {
     "data": {
      "image/png": "[encoded data removed]",
      "text/plain": [
       "<matplotlib.figure.Figure at 0x10e03f590>"
      ]
     },
     "metadata": {},
     "output_type": "display_data"
    }
   ],
   "source": [
    "df['Class Name'].value_counts().plot(kind='bar', rot=0, title='Total Number of Republicans and Democrats')\n",
    "\n",
    "print df['Class Name'].value_counts()\n",
    "\n",
    "def make_demo(X):\n",
    "    return ['democrat'] * len(df)\n",
    "\n",
    "def make_rep(X):\n",
    "    return ['republican'] * len(df)\n",
    "\n",
    "X = df.values[:,1:]\n",
    "y_actual = df.values[:,0]\n",
    "y_pred_alldem = make_demo(X)\n",
    "y_pred_allrep = make_rep(X)\n",
    "all_dem = sklearn.metrics.accuracy_score(y_actual, y_pred_alldem)\n",
    "all_rep = sklearn.metrics.accuracy_score(y_actual, y_pred_allrep)\n",
    "print 'Predicting all democrat accuracy: {0:.2f}'.format(all_dem)\n",
    "print 'Predicting all republican accuracy: {0:.2f}'.format(all_rep)"
   ]
  },
  {
   "cell_type": "markdown",
   "metadata": {},
   "source": [
    "### Challenge 6"
   ]
  },
  {
   "cell_type": "code",
   "execution_count": 29,
   "metadata": {
    "collapsed": false
   },
   "outputs": [
    {
     "data": {
      "image/png": "[encoded data removed]",
      "text/plain": [
       "<matplotlib.figure.Figure at 0x109b3a110>"
      ]
     },
     "metadata": {},
     "output_type": "display_data"
    }
   ],
   "source": [
    "plt.figure(figsize=(10,8))\n",
    "plt.plot(range(1,21), scores, 'r-', label='Knn')\n",
    "plt.plot(range(1,21), [log_score] * 20, 'b--', label='Logistic')\n",
    "plt.plot(range(1,21), [all_dem] * 20, 'g-', label='All Demo')\n",
    "plt.plot(range(1,21), [all_rep] * 20, 'c--', label='All Rep')\n",
    "plt.xticks(np.arange(1,21));\n",
    "plt.xlabel('n neighbors')\n",
    "plt.ylabel('Accuracy')\n",
    "plt.title('Accuracy Scores for Various Models')\n",
    "plt.legend(loc='best');"
   ]
  },
  {
   "cell_type": "markdown",
   "metadata": {},
   "source": [
    "### Challenge 7"
   ]
  },
  {
   "cell_type": "code",
   "execution_count": 15,
   "metadata": {
    "collapsed": false
   },
   "outputs": [
    {
     "data": {
      "text/plain": [
       "<matplotlib.legend.Legend at 0x10e798e90>"
      ]
     },
     "execution_count": 15,
     "metadata": {},
     "output_type": "execute_result"
    },
    {
     "data": {
      "image/png": "[encoded data removed]",
      "text/plain": [
       "<matplotlib.figure.Figure at 0x109ab2cd0>"
      ]
     },
     "metadata": {},
     "output_type": "display_data"
    },
    {
     "data": {
      "image/png": "[encoded data removed]",
      "text/plain": [
       "<matplotlib.figure.Figure at 0x10e750410>"
      ]
     },
     "metadata": {},
     "output_type": "display_data"
    }
   ],
   "source": [
    "# Logistic Regression\n",
    "log_model = LogisticRegression()\n",
    "m, train_err, test_err = sklearn.learning_curve.learning_curve(log_model, X, y_actual)\n",
    "\n",
    "train_cv_error = np.mean(train_err, axis=1)\n",
    "test_cv_error = np.mean(test_err, axis=1)\n",
    "\n",
    "plt.figure()\n",
    "plt.plot(m, train_cv_error, label='Training') \n",
    "plt.plot(m, test_cv_error, label='Test')\n",
    "plt.xlabel('Training Set Size')\n",
    "plt.ylabel('Accuracy')\n",
    "plt.title('Logistic Regression Learning Curve')\n",
    "plt.legend(loc='best')\n",
    "\n",
    "# K Nearest Neighbors\n",
    "knn_model = KNeighborsClassifier(n_neighbors=6)\n",
    "\n",
    "knn_m, knn_train_err, knn_test_err = sklearn.learning_curve.learning_curve(knn_model, X, y_actual)\n",
    "\n",
    "knn_train_cv_error = np.mean(knn_train_err, axis=1)\n",
    "knn_test_cv_error = np.mean(knn_test_err, axis=1)\n",
    "\n",
    "plt.figure()\n",
    "plt.plot(knn_m, knn_train_cv_error, label='Training')\n",
    "plt.plot(knn_m, knn_test_cv_error, label='Test')\n",
    "plt.xlabel('Training Set Size')\n",
    "plt.ylabel('Accuracy')\n",
    "plt.title('KNN Learning Curve')\n",
    "plt.legend(loc='best')"
   ]
  },
  {
   "cell_type": "markdown",
   "metadata": {},
   "source": [
    "### Challenge 8"
   ]
  },
  {
   "cell_type": "code",
   "execution_count": 16,
   "metadata": {
    "collapsed": false
   },
   "outputs": [
    {
     "name": "stdout",
     "output_type": "stream",
     "text": [
      "Gaussian Naive Bayes Accuracy: 0.94\n",
      "SVM Accuracy: 0.95\n",
      "Decision Tree Accuracy: 0.94\n",
      "Random Forest Accuracy: 0.96\n"
     ]
    }
   ],
   "source": [
    "# Gaussian Naive Bayes\n",
    "gnb = GaussianNB()\n",
    "gnb.fit(X_train, y_train)\n",
    "gnb_acc = gnb.score(X_test, y_test)\n",
    "print 'Gaussian Naive Bayes Accuracy: {0:.2f}'.format(gnb_acc)\n",
    "\n",
    "# Support Vector Machine\n",
    "svm = SVC()\n",
    "svm.fit(X_train, y_train)\n",
    "svm_acc = svm.score(X_test, y_test)\n",
    "print 'SVM Accuracy: {0:.2f}'.format(svm_acc)\n",
    "\n",
    "# Decision Tree\n",
    "dt = DecisionTreeClassifier()\n",
    "dt.fit(X_train, y_train)\n",
    "dt_acc = dt.score(X_test, y_test)\n",
    "print 'Decision Tree Accuracy: {0:.2f}'.format(dt_acc)\n",
    "\n",
    "# Random Forest\n",
    "rf = RandomForestClassifier()\n",
    "rf.fit(X_train, y_train)\n",
    "rf_acc = rf.score(X_test, y_test)\n",
    "print 'Random Forest Accuracy: {0:.2f}'.format(rf_acc)"
   ]
  },
  {
   "cell_type": "markdown",
   "metadata": {},
   "source": [
    "### Challenge 9"
   ]
  },
  {
   "cell_type": "code",
   "execution_count": 17,
   "metadata": {
    "collapsed": false
   },
   "outputs": [
    {
     "name": "stdout",
     "output_type": "stream",
     "text": [
      "Gaussian Naive Bayes CV: 0.93\n",
      "SVM CV: 0.95\n",
      "Decision Tree CV : 0.95\n",
      "Random Forest CV: 0.95\n"
     ]
    }
   ],
   "source": [
    "# Gaussian Naive Bayes\n",
    "acc_gnb = np.mean(sklearn.cross_validation.cross_val_score(gnb, X, y_actual))\n",
    "print 'Gaussian Naive Bayes CV: {0:.2f}'.format(acc_gnb)\n",
    "\n",
    "# SVM\n",
    "acc_svm = np.mean(sklearn.cross_validation.cross_val_score(svm, X, y_actual))\n",
    "print 'SVM CV: {0:.2f}'.format(acc_svm)\n",
    "\n",
    "# Decision Tree\n",
    "acc_dt = np.mean(sklearn.cross_validation.cross_val_score(dt, X, y_actual))\n",
    "print 'Decision Tree CV : {0:.2f}'.format(acc_dt)\n",
    "\n",
    "# Random Forest\n",
    "acc_rf = np.mean(sklearn.cross_validation.cross_val_score(rf, X, y_actual))\n",
    "print 'Random Forest CV: {0:.2f}'.format(acc_rf)"
   ]
  },
  {
   "cell_type": "markdown",
   "metadata": {},
   "source": [
    "### Challenge 10"
   ]
  },
  {
   "cell_type": "code",
   "execution_count": 18,
   "metadata": {
    "collapsed": false
   },
   "outputs": [
    {
     "name": "stdout",
     "output_type": "stream",
     "text": [
      "Representative Vote Prediction Accuracy: 0.71\n",
      "Representative Vote Prediction CV: 0.66\n"
     ]
    }
   ],
   "source": [
    "df2 = pd.read_csv('votes.csv', index_col=False, names=columns, converters=converter)\n",
    " \n",
    "df2 = df2.fillna(df2.mode())\n",
    "df2 = df2.replace(0.0, '0')\n",
    "df2 = df2.replace(1.0, '1')\n",
    " \n",
    "clf = KNeighborsClassifier()\n",
    "train_2, test_2 = train_test_split(df2)\n",
    "\n",
    "X_rep = df2.values[:,2:]\n",
    "X_train_2 = train_2[:, 2:]\n",
    "y_train_2 = train_2[:,1]\n",
    "y_rep = df2.values[:,1]\n",
    "X_test_2 = test_2[:,2:]\n",
    "y_test_2 = test_2[:,1]\n",
    "\n",
    "clf.fit(X_train_2, y_train_2)\n",
    "print 'Representative Vote Prediction Accuracy: {0:.2f}'.format(clf.score(X_test_2, y_test_2))\n",
    "\n",
    "clf_rep = np.mean(sklearn.cross_validation.cross_val_score(clf, X_rep, y_rep))\n",
    "print 'Representative Vote Prediction CV: {0:.2f}'.format(clf_rep)"
   ]
  },
  {
   "cell_type": "markdown",
   "metadata": {},
   "source": [
    "### Challenge 11"
   ]
  },
  {
   "cell_type": "code",
   "execution_count": 19,
   "metadata": {
    "collapsed": false
   },
   "outputs": [
    {
     "name": "stdout",
     "output_type": "stream",
     "text": [
      "Accuracy of Logistic Regression Predicting a British Actor: 0.61\n",
      "Accuracy of Knn = 10 Predicting a British Actor: 0.65\n",
      "Accuracy Setting Prediction to Most Prevalent Label: 0.66\n"
     ]
    },
    {
     "data": {
      "image/png": "[encoded data removed]",
      "text/plain": [
       "<matplotlib.figure.Figure at 0x10ec80c90>"
      ]
     },
     "metadata": {},
     "output_type": "display_data"
    }
   ],
   "source": [
    "movie_df = pd.read_csv('dataframe.csv')\n",
    "movie_df['British'] = movie_df['British'].astype(str)\n",
    "movie_df.fillna(0, inplace=True)\n",
    "\n",
    "brit_df = pd.DataFrame(movie_df.British.value_counts().values, index=['no_british', 'british'])\n",
    "brit_df.plot(kind='bar', rot=0, legend=False, title='Number of Movies With or Without a British Actor/Actress')\n",
    "\n",
    "X_movie = movie_df.values[:,(1,2,7)]\n",
    "y_movie = movie_df.values[:,5]\n",
    "\n",
    "movie_train, movie_test = train_test_split(movie_df)\n",
    "\n",
    "X_train_movie, y_train_movie = movie_train[:,(1,2,7)], movie_train[:,5]\n",
    "X_test_movie, y_test_movie = movie_test[:,(1,2,7)], movie_test[:,5]\n",
    "\n",
    "# Add intercept\n",
    "cons = np.ones(len(X_train_movie))\n",
    "cons2 = np.ones(len(X_test_movie))\n",
    "X_train_movie = np.insert(X_train_movie, 0, cons, axis=1)\n",
    "X_test_movie = np.insert(X_test_movie, 0, cons2, axis=1)\n",
    "\n",
    "# Logistic Regression\n",
    "movie_log_model = LogisticRegression()\n",
    "movie_log_model.fit(X_train_movie, y_train_movie)\n",
    "acc_british = movie_log_model.score(X_test_movie, y_test_movie)\n",
    "print 'Accuracy of Logistic Regression Predicting a British Actor: {0:.2f}'.format(acc_british)\n",
    "\n",
    "# Knn Classifier\n",
    "clf_movie = KNeighborsClassifier(n_neighbors = 10)\n",
    "clf_movie.fit(X_train_movie, y_train_movie)\n",
    "acc_clf = clf_movie.score(X_test_movie, y_test_movie)\n",
    "print 'Accuracy of Knn = 10 Predicting a British Actor: {0:.2f}'.format(acc_clf)\n",
    "\n",
    "# Stupid Predictor, i.e. just returns the most prevalent value in the prediction set\n",
    "def most_present(array):\n",
    "    return [array.argmax(axis=0)] * len(X_test_movie)\n",
    "    \n",
    "y_movie_stupid = most_present(movie_df.British.value_counts())\n",
    "all_nb = sklearn.metrics.accuracy_score(y_test_movie, y_movie_stupid)\n",
    "print 'Accuracy Setting Prediction to Most Prevalent Label: {0:.2f}'.format(all_nb)"
   ]
  },
  {
   "cell_type": "markdown",
   "metadata": {},
   "source": [
    "### Challenge 12"
   ]
  },
  {
   "cell_type": "code",
   "execution_count": 31,
   "metadata": {
    "collapsed": false
   },
   "outputs": [
    {
     "name": "stdout",
     "output_type": "stream",
     "text": [
      "Average Age: 52.46\n",
      "Standard Deviation of Age: 10.80\n",
      "\n",
      "Average Age of Patients Who Survived Fewer Than 5 Years After Surgery: 53.68\n",
      "Standard Deviation of Age of Patients Who Survived Fewer Than 5 Years After Surgery: 10.17\n",
      "\n",
      "Average Age of Patients Who Survived 5 or More Years After Surgery: 52.02\n",
      "Standard Deviation of Age of Patients Who Survived 5 or More Years After Surgery: 11.01\n"
     ]
    }
   ],
   "source": [
    "def write_to_csv(filein, fileout): \n",
    "    with open(filein, 'r') as f:\n",
    "     reader = csv.reader(f)\n",
    "     data = open(fileout, 'w')\n",
    "     writer = csv.writer(data)\n",
    "     for row in reader:\n",
    "         writer.writerow(row)\n",
    "     data.close()\n",
    "     \n",
    "#write_to_csv('haberman.data', 'haberman.csv')\n",
    "hab_columns = ['age', 'operation_year', 'num_positive_nodes', 'survival']\n",
    "hab_df = pd.read_csv('haberman.csv', names=hab_columns)\n",
    "     \n",
    "avg_age = hab_df.age.mean()\n",
    "std_age = hab_df.age.std()\n",
    "print 'Average Age: {0:.2f}'.format(avg_age)\n",
    "print 'Standard Deviation of Age: {0:.2f}\\n'.format(std_age)\n",
    "\n",
    "avg_age_lt5 = hab_df.age[hab_df['survival'] == 2].mean()\n",
    "avg_age_gt5 = hab_df.age[hab_df['survival'] == 1].mean()\n",
    "std_age_lt5 = hab_df.age[hab_df['survival'] == 2].std()\n",
    "std_age_gt5 = hab_df.age[hab_df['survival'] == 1].std()\n",
    "print 'Average Age of Patients Who Survived Fewer Than 5 Years After Surgery: {0:.2f}'.format(avg_age_lt5)\n",
    "print 'Standard Deviation of Age of Patients Who Survived Fewer Than 5 Years After Surgery: {0:.2f}\\n'.format(std_age_lt5)\n",
    "print 'Average Age of Patients Who Survived 5 or More Years After Surgery: {0:.2f}'.format(avg_age_gt5)\n",
    "print 'Standard Deviation of Age of Patients Who Survived 5 or More Years After Surgery: {0:.2f}'.format(std_age_gt5)"
   ]
  },
  {
   "cell_type": "code",
   "execution_count": 36,
   "metadata": {
    "collapsed": false
   },
   "outputs": [
    {
     "data": {
      "image/png": "[encoded data removed]",
      "text/plain": [
       "<matplotlib.figure.Figure at 0x110982410>"
      ]
     },
     "metadata": {},
     "output_type": "display_data"
    }
   ],
   "source": [
    "plt.figure(figsize=(10,5))\n",
    "plt.subplot(1,2,1)\n",
    "plt.hist(hab_df.age)\n",
    "plt.xlabel('Age');\n",
    "plt.ylabel('Count');\n",
    "plt.title('Distribution of Age');\n",
    "plt.subplot(1,2,2)\n",
    "plt.hist(hab_df.num_positive_nodes)\n",
    "plt.xlabel('Number of Positive Nodes');\n",
    "plt.ylabel('Count');\n",
    "plt.title('Distribution of Number of Positive Nodes');"
   ]
  },
  {
   "cell_type": "code",
   "execution_count": 37,
   "metadata": {
    "collapsed": false
   },
   "outputs": [
    {
     "name": "stdout",
     "output_type": "stream",
     "text": [
      "Earliest year of surgery: 1958\n",
      "Most recent year of surgery: 1969\n"
     ]
    }
   ],
   "source": [
    "earliest_year = int('19{0}'.format(hab_df.operation_year.min()))\n",
    "recent_year = int('19{0}'.format(hab_df.operation_year.max()))\n",
    "print 'Earliest year of surgery: {0}'.format(earliest_year)\n",
    "print 'Most recent year of surgery: {0}'.format(recent_year)"
   ]
  },
  {
   "cell_type": "code",
   "execution_count": 40,
   "metadata": {
    "collapsed": false
   },
   "outputs": [
    {
     "name": "stdout",
     "output_type": "stream",
     "text": [
      "Survival Prediction After 5 Years: 0.82\n"
     ]
    }
   ],
   "source": [
    "hab_train, hab_test = train_test_split(hab_df)\n",
    "\n",
    "X_hab_train = hab_train[:,:3]\n",
    "cons = np.ones(len(X_hab_train))\n",
    "# Add intercept\n",
    "X_hab_train = np.insert(X_hab_train, 0, cons, axis=1)\n",
    "y_hab_train = hab_train[:,3]\n",
    "X_hab_test = hab_test[:,:3]\n",
    "cons2 = np.ones(len(X_hab_test))\n",
    "# Add intercept\n",
    "X_hab_test = np.insert(X_hab_test, 0, cons2, axis=1)\n",
    "y_hab_test = hab_test[:,3]\n",
    "\n",
    "hab_log_model = LogisticRegression()\n",
    "hab_log_model.fit(X_hab_train,y_hab_train)\n",
    "acc_hab = hab_log_model.score(X_hab_test, y_hab_test)\n",
    "print 'Survival Prediction After 5 Years: {0:.2f}'.format(acc_hab)"
   ]
  },
  {
   "cell_type": "code",
   "execution_count": 44,
   "metadata": {
    "collapsed": false
   },
   "outputs": [
    {
     "name": "stdout",
     "output_type": "stream",
     "text": [
      "Intercept Coefficient: -0.14\n",
      "Age Coefficient: 0.02\n",
      "Operation Year Coefficient: -0.03\n",
      "Number of Positive Node Coefficient: 0.07\n"
     ]
    }
   ],
   "source": [
    "print 'Intercept Coefficient: {0:.2f}'.format(hab_log_model.coef_[0][0])\n",
    "print 'Age Coefficient: {0:.2f}'.format(hab_log_model.coef_[0][1])\n",
    "print 'Operation Year Coefficient: {0:.2f}'.format(hab_log_model.coef_[0][2])\n",
    "print 'Number of Positive Node Coefficient: {0:.2f}'.format(hab_log_model.coef_[0][3])"
   ]
  },
  {
   "cell_type": "code",
   "execution_count": 45,
   "metadata": {
    "collapsed": false
   },
   "outputs": [
    {
     "data": {
      "text/plain": [
       "<matplotlib.text.Text at 0x110c22810>"
      ]
     },
     "execution_count": 45,
     "metadata": {},
     "output_type": "execute_result"
    },
    {
     "data": {
      "image/png": "[encoded data removed]",
      "text/plain": [
       "<matplotlib.figure.Figure at 0x110967190>"
      ]
     },
     "metadata": {},
     "output_type": "display_data"
    }
   ],
   "source": [
    "X_hab = hab_df.values[:,:3]\n",
    "y_hab = hab_df.values[:,3]\n",
    "hab_m, hab_train_error, hab_test_err = sklearn.learning_curve.learning_curve(hab_log_model, X_hab, y_hab)\n",
    "hab_train_cv_error = np.mean(hab_train_error, axis=1)\n",
    "hab_test_cv_error = np.mean(hab_test_err, axis=1)\n",
    "\n",
    "plt.figure()\n",
    "plt.plot(hab_m, hab_train_cv_error, label='Training') \n",
    "plt.plot(hab_m, hab_test_cv_error, label='Test')\n",
    "plt.title('Logistic Regression Learning Curve')\n",
    "plt.legend(loc='best')\n",
    "plt.xlabel('Training Set Size')\n",
    "plt.ylabel('Accuracy')"
   ]
  },
  {
   "cell_type": "code",
   "execution_count": null,
   "metadata": {
    "collapsed": true
   },
   "outputs": [],
   "source": []
  }
 ],
 "metadata": {
  "kernelspec": {
   "display_name": "Python 2",
   "language": "python",
   "name": "python2"
  },
  "language_info": {
   "codemirror_mode": {
    "name": "ipython",
    "version": 2
   },
   "file_extension": ".py",
   "mimetype": "text/x-python",
   "name": "python",
   "nbconvert_exporter": "python",
   "pygments_lexer": "ipython2",
   "version": "2.7.9"
  }
 },
 "nbformat": 4,
 "nbformat_minor": 0
}
